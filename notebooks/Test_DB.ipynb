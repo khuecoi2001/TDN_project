{
 "cells": [
  {
   "cell_type": "code",
   "execution_count": 12,
   "id": "1c421fa9",
   "metadata": {},
   "outputs": [
    {
     "name": "stdout",
     "output_type": "stream",
     "text": [
      "   ID_TCTDL   MA_PC                             TEN_TCTDL TENTAT_TCTDL\n",
      "0         1  PC0000        Tổng Công ty Điện lực Miền Bắc       EVNNPC\n",
      "1         2  PC0000        Tổng Công ty Điện lực Miền Nam       EVNSPC\n",
      "2         3  PC0000      Tổng Công ty Điện lực Miền Trung       EVNCPC\n",
      "3         4  PC0000       Tổng Công ty Điện lực TP Hà Nội     EVNHANOI\n",
      "4         5  PC0000  Tổng Công ty Điện lực TP Hồ Chí Minh      EVNHCMC\n"
     ]
    }
   ],
   "source": [
    "import pyodbc\n",
    "import pandas as pd\n",
    "import warnings\n",
    "warnings.filterwarnings(\"ignore\")\n",
    "# Chuỗi kết nối rõ driver\n",
    "conn_str = (\n",
    "    \"DRIVER={SQL Server};\"\n",
    "    \"SERVER=10.8.4.133;\"\n",
    "    \"DATABASE=DB_DGM;\"\n",
    "    \"UID=linhbd;\"\n",
    "    \"PWD=NLTT@2022!@#\"\n",
    ")\n",
    "\n",
    "# Kết nối và truy vấn\n",
    "with pyodbc.connect(conn_str) as conn:\n",
    "    query = \"\"\"\n",
    "        SELECT *\n",
    "        FROM HT_TCT_DIENLUC;\n",
    "    \"\"\"\n",
    "    df = pd.read_sql(query, conn)\n",
    "\n",
    "print(df.head())"
   ]
  },
  {
   "cell_type": "code",
   "execution_count": 9,
   "id": "a7ac051e",
   "metadata": {},
   "outputs": [
    {
     "data": {
      "text/plain": [
       "['SQL Server',\n",
       " 'Microsoft Access Driver (*.mdb, *.accdb)',\n",
       " 'Microsoft Excel Driver (*.xls, *.xlsx, *.xlsm, *.xlsb)',\n",
       " 'Microsoft Access Text Driver (*.txt, *.csv)',\n",
       " 'Microsoft Access dBASE Driver (*.dbf, *.ndx, *.mdx)']"
      ]
     },
     "execution_count": 9,
     "metadata": {},
     "output_type": "execute_result"
    }
   ],
   "source": [
    "pyodbc.drivers()  # Hiển thị danh sách driver đã cài đặt"
   ]
  }
 ],
 "metadata": {
  "kernelspec": {
   "display_name": "Python 3",
   "language": "python",
   "name": "python3"
  },
  "language_info": {
   "codemirror_mode": {
    "name": "ipython",
    "version": 3
   },
   "file_extension": ".py",
   "mimetype": "text/x-python",
   "name": "python",
   "nbconvert_exporter": "python",
   "pygments_lexer": "ipython3",
   "version": "3.8.10"
  }
 },
 "nbformat": 4,
 "nbformat_minor": 5
}
