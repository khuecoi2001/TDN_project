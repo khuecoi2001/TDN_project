{
 "cells": [
  {
   "cell_type": "code",
   "execution_count": 18,
   "id": "23bc2ce1",
   "metadata": {},
   "outputs": [
    {
     "name": "stdout",
     "output_type": "stream",
     "text": [
      "🔄 Bắt đầu đọc dữ liệu Parquet...\n",
      "🔍 Tìm thấy 4 file Parquet. Bắt đầu đọc...\n",
      "   Ghép các DataFrame...\n",
      "✅ Đọc và ghép 4 file thành công.\n",
      "👉 Tổng số dòng: 18,404,864\n",
      "⏱️ Thời gian đọc và ghép: 21.60 giây\n"
     ]
    }
   ],
   "source": [
    "import pandas as pd\n",
    "import time\n",
    "\n",
    "print(\"🔄 Bắt đầu đọc dữ liệu Parquet...\")\n",
    "start_read_time = time.time()  # Đo thời gian đọc\n",
    "parquet_folder = r\"C:\\Khue\\TDN\\data\\processed\"\n",
    "\n",
    "try:\n",
    "    all_files_in_folder = os.listdir(parquet_folder)\n",
    "    parquet_files = [\n",
    "        os.path.join(parquet_folder, f)\n",
    "        for f in all_files_in_folder\n",
    "        if f.startswith(\"sanluong_\") and f.endswith(\".parquet\")\n",
    "    ]\n",
    "\n",
    "    if not parquet_files:\n",
    "        print(f\"⚠️ Không tìm thấy file Parquet trong: {parquet_folder}\")\n",
    "        df_all = pd.DataFrame()\n",
    "    else:\n",
    "        df_list = []\n",
    "        print(f\"🔍 Tìm thấy {len(parquet_files)} file Parquet. Bắt đầu đọc...\")\n",
    "        for i, f in enumerate(parquet_files):\n",
    "            try:\n",
    "                df_temp = pd.read_parquet(f, engine=\"pyarrow\")\n",
    "                # Chỉ đọc các cột thực sự cần thiết ngay từ đầu để tiết kiệm bộ nhớ\n",
    "                required_cols_read = [\"CTDL\", \"NMTD\", \"MADIEMDO\", \"ENDTIME\", \"CS\"]\n",
    "                if all(col in df_temp.columns for col in required_cols_read):\n",
    "                    df_list.append(df_temp[required_cols_read])  # Chỉ lấy cột cần thiết\n",
    "                else:\n",
    "                    print(f\"   ⚠️ File {os.path.basename(f)} thiếu cột, bỏ qua.\")\n",
    "            except Exception as e:\n",
    "                print(f\"❌ Lỗi đọc file {os.path.basename(f)}: {e}\")\n",
    "\n",
    "        if df_list:\n",
    "            print(\"   Ghép các DataFrame...\")\n",
    "            df_all = pd.concat(df_list, ignore_index=True)\n",
    "            print(f\"✅ Đọc và ghép {len(df_list)} file thành công.\")\n",
    "            print(f\"👉 Tổng số dòng: {df_all.shape[0]:,}\")\n",
    "            print(f\"⏱️ Thời gian đọc và ghép: {time.time() - start_read_time:.2f} giây\")\n",
    "            # Hiển thị thông tin bộ nhớ (tùy chọn)\n",
    "            # df_all.info(memory_usage='deep')\n",
    "        else:\n",
    "            print(\"❌ Không đọc được file nào thành công.\")\n",
    "            df_all = pd.DataFrame()\n",
    "\n",
    "except FileNotFoundError:\n",
    "    print(f\"❌ Lỗi: Không tìm thấy thư mục: {parquet_folder}\")\n",
    "    df_all = pd.DataFrame()\n",
    "except Exception as e:\n",
    "    print(f\"❌ Lỗi không xác định khi đọc file/thư mục: {e}\")\n",
    "    df_all = pd.DataFrame()"
   ]
  },
  {
   "cell_type": "code",
   "execution_count": 19,
   "id": "33fbfb52",
   "metadata": {},
   "outputs": [],
   "source": [
    "df_all = df_all.rename(columns={\"ENDTIME\": \"TIME\"})"
   ]
  },
  {
   "cell_type": "code",
   "execution_count": 15,
   "id": "69ee4272",
   "metadata": {},
   "outputs": [
    {
     "data": {
      "application/vnd.microsoft.datawrangler.viewer.v0+json": {
       "columns": [
        {
         "name": "index",
         "rawType": "int64",
         "type": "integer"
        },
        {
         "name": "CTDL",
         "rawType": "object",
         "type": "string"
        },
        {
         "name": "NMTD",
         "rawType": "object",
         "type": "unknown"
        },
        {
         "name": "MADIEMDO",
         "rawType": "object",
         "type": "string"
        },
        {
         "name": "TIME",
         "rawType": "datetime64[ns]",
         "type": "datetime"
        },
        {
         "name": "CS",
         "rawType": "float64",
         "type": "float"
        }
       ],
       "conversionMethod": "pd.DataFrame",
       "ref": "c60c659d-4526-41ae-9a1f-63884aa635ea",
       "rows": [
        [
         "0",
         "CTY ĐIỆN LỰC SƠN LA",
         "NMTĐ SUỐI SẬP 2",
         "G2A000S000M331",
         "2021-01-01 00:30:00",
         "0.0"
        ],
        [
         "1",
         "CTY ĐIỆN LỰC SƠN LA",
         "NMTĐ SUỐI SẬP 2",
         "G2A000S000M331",
         "2021-01-01 01:00:00",
         "0.0"
        ],
        [
         "2",
         "CTY ĐIỆN LỰC SƠN LA",
         "NMTĐ SUỐI SẬP 2",
         "G2A000S000M331",
         "2021-01-01 01:30:00",
         "0.0"
        ],
        [
         "3",
         "CTY ĐIỆN LỰC SƠN LA",
         "NMTĐ SUỐI SẬP 2",
         "G2A000S000M331",
         "2021-01-01 02:00:00",
         "0.0"
        ],
        [
         "4",
         "CTY ĐIỆN LỰC SƠN LA",
         "NMTĐ SUỐI SẬP 2",
         "G2A000S000M331",
         "2021-01-01 02:30:00",
         "0.0"
        ],
        [
         "5",
         "CTY ĐIỆN LỰC SƠN LA",
         "NMTĐ SUỐI SẬP 2",
         "G2A000S000M331",
         "2021-01-01 03:00:00",
         "0.0"
        ],
        [
         "6",
         "CTY ĐIỆN LỰC SƠN LA",
         "NMTĐ SUỐI SẬP 2",
         "G2A000S000M331",
         "2021-01-01 03:30:00",
         "0.0"
        ],
        [
         "7",
         "CTY ĐIỆN LỰC SƠN LA",
         "NMTĐ SUỐI SẬP 2",
         "G2A000S000M331",
         "2021-01-01 04:00:00",
         "0.0"
        ],
        [
         "8",
         "CTY ĐIỆN LỰC SƠN LA",
         "NMTĐ SUỐI SẬP 2",
         "G2A000S000M331",
         "2021-01-01 04:30:00",
         "0.0"
        ],
        [
         "9",
         "CTY ĐIỆN LỰC SƠN LA",
         "NMTĐ SUỐI SẬP 2",
         "G2A000S000M331",
         "2021-01-01 05:00:00",
         "0.0"
        ],
        [
         "10",
         "CTY ĐIỆN LỰC SƠN LA",
         "NMTĐ SUỐI SẬP 2",
         "G2A000S000M331",
         "2021-01-01 05:30:00",
         "0.0"
        ],
        [
         "11",
         "CTY ĐIỆN LỰC SƠN LA",
         "NMTĐ SUỐI SẬP 2",
         "G2A000S000M331",
         "2021-01-01 06:00:00",
         "0.0"
        ],
        [
         "12",
         "CTY ĐIỆN LỰC SƠN LA",
         "NMTĐ SUỐI SẬP 2",
         "G2A000S000M331",
         "2021-01-01 06:30:00",
         "0.0"
        ],
        [
         "13",
         "CTY ĐIỆN LỰC SƠN LA",
         "NMTĐ SUỐI SẬP 2",
         "G2A000S000M331",
         "2021-01-01 07:00:00",
         "0.0"
        ],
        [
         "14",
         "CTY ĐIỆN LỰC SƠN LA",
         "NMTĐ SUỐI SẬP 2",
         "G2A000S000M331",
         "2021-01-01 07:30:00",
         "0.0"
        ],
        [
         "15",
         "CTY ĐIỆN LỰC SƠN LA",
         "NMTĐ SUỐI SẬP 2",
         "G2A000S000M331",
         "2021-01-01 08:00:00",
         "0.0"
        ],
        [
         "16",
         "CTY ĐIỆN LỰC SƠN LA",
         "NMTĐ SUỐI SẬP 2",
         "G2A000S000M331",
         "2021-01-01 08:30:00",
         "0.0"
        ],
        [
         "17",
         "CTY ĐIỆN LỰC SƠN LA",
         "NMTĐ SUỐI SẬP 2",
         "G2A000S000M331",
         "2021-01-01 09:00:00",
         "0.0"
        ],
        [
         "18",
         "CTY ĐIỆN LỰC SƠN LA",
         "NMTĐ SUỐI SẬP 2",
         "G2A000S000M331",
         "2021-01-01 09:30:00",
         "0.0"
        ],
        [
         "19",
         "CTY ĐIỆN LỰC SƠN LA",
         "NMTĐ SUỐI SẬP 2",
         "G2A000S000M331",
         "2021-01-01 10:00:00",
         "0.0"
        ],
        [
         "20",
         "CTY ĐIỆN LỰC SƠN LA",
         "NMTĐ SUỐI SẬP 2",
         "G2A000S000M331",
         "2021-01-01 10:30:00",
         "0.0"
        ],
        [
         "21",
         "CTY ĐIỆN LỰC SƠN LA",
         "NMTĐ SUỐI SẬP 2",
         "G2A000S000M331",
         "2021-01-01 11:00:00",
         "0.0"
        ],
        [
         "22",
         "CTY ĐIỆN LỰC SƠN LA",
         "NMTĐ SUỐI SẬP 2",
         "G2A000S000M331",
         "2021-01-01 11:30:00",
         "0.0"
        ],
        [
         "23",
         "CTY ĐIỆN LỰC SƠN LA",
         "NMTĐ SUỐI SẬP 2",
         "G2A000S000M331",
         "2021-01-01 12:00:00",
         "0.0"
        ],
        [
         "24",
         "CTY ĐIỆN LỰC SƠN LA",
         "NMTĐ SUỐI SẬP 2",
         "G2A000S000M331",
         "2021-01-01 12:30:00",
         "0.0"
        ],
        [
         "25",
         "CTY ĐIỆN LỰC SƠN LA",
         "NMTĐ SUỐI SẬP 2",
         "G2A000S000M331",
         "2021-01-01 13:00:00",
         "0.0"
        ],
        [
         "26",
         "CTY ĐIỆN LỰC SƠN LA",
         "NMTĐ SUỐI SẬP 2",
         "G2A000S000M331",
         "2021-01-01 13:30:00",
         "0.0"
        ],
        [
         "27",
         "CTY ĐIỆN LỰC SƠN LA",
         "NMTĐ SUỐI SẬP 2",
         "G2A000S000M331",
         "2021-01-01 14:00:00",
         "0.0"
        ],
        [
         "28",
         "CTY ĐIỆN LỰC SƠN LA",
         "NMTĐ SUỐI SẬP 2",
         "G2A000S000M331",
         "2021-01-01 14:30:00",
         "0.0"
        ],
        [
         "29",
         "CTY ĐIỆN LỰC SƠN LA",
         "NMTĐ SUỐI SẬP 2",
         "G2A000S000M331",
         "2021-01-01 15:00:00",
         "0.0"
        ],
        [
         "30",
         "CTY ĐIỆN LỰC SƠN LA",
         "NMTĐ SUỐI SẬP 2",
         "G2A000S000M331",
         "2021-01-01 15:30:00",
         "0.0"
        ],
        [
         "31",
         "CTY ĐIỆN LỰC SƠN LA",
         "NMTĐ SUỐI SẬP 2",
         "G2A000S000M331",
         "2021-01-01 16:00:00",
         "0.0"
        ],
        [
         "32",
         "CTY ĐIỆN LỰC SƠN LA",
         "NMTĐ SUỐI SẬP 2",
         "G2A000S000M331",
         "2021-01-01 16:30:00",
         "0.0"
        ],
        [
         "33",
         "CTY ĐIỆN LỰC SƠN LA",
         "NMTĐ SUỐI SẬP 2",
         "G2A000S000M331",
         "2021-01-01 17:00:00",
         "0.0"
        ],
        [
         "34",
         "CTY ĐIỆN LỰC SƠN LA",
         "NMTĐ SUỐI SẬP 2",
         "G2A000S000M331",
         "2021-01-01 17:30:00",
         "0.0"
        ],
        [
         "35",
         "CTY ĐIỆN LỰC SƠN LA",
         "NMTĐ SUỐI SẬP 2",
         "G2A000S000M331",
         "2021-01-01 18:00:00",
         "0.0"
        ],
        [
         "36",
         "CTY ĐIỆN LỰC SƠN LA",
         "NMTĐ SUỐI SẬP 2",
         "G2A000S000M331",
         "2021-01-01 18:30:00",
         "0.0"
        ],
        [
         "37",
         "CTY ĐIỆN LỰC SƠN LA",
         "NMTĐ SUỐI SẬP 2",
         "G2A000S000M331",
         "2021-01-01 19:00:00",
         "0.0"
        ],
        [
         "38",
         "CTY ĐIỆN LỰC SƠN LA",
         "NMTĐ SUỐI SẬP 2",
         "G2A000S000M331",
         "2021-01-01 19:30:00",
         "0.0"
        ],
        [
         "39",
         "CTY ĐIỆN LỰC SƠN LA",
         "NMTĐ SUỐI SẬP 2",
         "G2A000S000M331",
         "2021-01-01 20:00:00",
         "0.0"
        ],
        [
         "40",
         "CTY ĐIỆN LỰC SƠN LA",
         "NMTĐ SUỐI SẬP 2",
         "G2A000S000M331",
         "2021-01-01 20:30:00",
         "0.0"
        ],
        [
         "41",
         "CTY ĐIỆN LỰC SƠN LA",
         "NMTĐ SUỐI SẬP 2",
         "G2A000S000M331",
         "2021-01-01 21:00:00",
         "0.0"
        ],
        [
         "42",
         "CTY ĐIỆN LỰC SƠN LA",
         "NMTĐ SUỐI SẬP 2",
         "G2A000S000M331",
         "2021-01-01 21:30:00",
         "0.0"
        ],
        [
         "43",
         "CTY ĐIỆN LỰC SƠN LA",
         "NMTĐ SUỐI SẬP 2",
         "G2A000S000M331",
         "2021-01-01 22:00:00",
         "0.0"
        ],
        [
         "44",
         "CTY ĐIỆN LỰC SƠN LA",
         "NMTĐ SUỐI SẬP 2",
         "G2A000S000M331",
         "2021-01-01 22:30:00",
         "0.0"
        ],
        [
         "45",
         "CTY ĐIỆN LỰC SƠN LA",
         "NMTĐ SUỐI SẬP 2",
         "G2A000S000M331",
         "2021-01-01 23:00:00",
         "0.0"
        ],
        [
         "46",
         "CTY ĐIỆN LỰC SƠN LA",
         "NMTĐ SUỐI SẬP 2",
         "G2A000S000M331",
         "2021-01-01 23:30:00",
         "0.0"
        ],
        [
         "47",
         "CTY ĐIỆN LỰC SƠN LA",
         "NMTĐ SUỐI SẬP 2",
         "G2A000S000M331",
         "2021-01-02 00:00:00",
         "0.0"
        ],
        [
         "48",
         "CTY ĐIỆN LỰC SƠN LA",
         "NMTĐ SUỐI SẬP 2",
         "G2A000S000M331",
         "2021-01-02 00:30:00",
         "0.0"
        ],
        [
         "49",
         "CTY ĐIỆN LỰC SƠN LA",
         "NMTĐ SUỐI SẬP 2",
         "G2A000S000M331",
         "2021-01-02 01:00:00",
         "0.0"
        ]
       ],
       "shape": {
        "columns": 5,
        "rows": 18404864
       }
      },
      "text/html": [
       "<div>\n",
       "<style scoped>\n",
       "    .dataframe tbody tr th:only-of-type {\n",
       "        vertical-align: middle;\n",
       "    }\n",
       "\n",
       "    .dataframe tbody tr th {\n",
       "        vertical-align: top;\n",
       "    }\n",
       "\n",
       "    .dataframe thead th {\n",
       "        text-align: right;\n",
       "    }\n",
       "</style>\n",
       "<table border=\"1\" class=\"dataframe\">\n",
       "  <thead>\n",
       "    <tr style=\"text-align: right;\">\n",
       "      <th></th>\n",
       "      <th>CTDL</th>\n",
       "      <th>NMTD</th>\n",
       "      <th>MADIEMDO</th>\n",
       "      <th>TIME</th>\n",
       "      <th>CS</th>\n",
       "    </tr>\n",
       "  </thead>\n",
       "  <tbody>\n",
       "    <tr>\n",
       "      <th>0</th>\n",
       "      <td>CTY ĐIỆN LỰC SƠN LA</td>\n",
       "      <td>NMTĐ SUỐI SẬP 2</td>\n",
       "      <td>G2A000S000M331</td>\n",
       "      <td>2021-01-01 00:30:00</td>\n",
       "      <td>0.0</td>\n",
       "    </tr>\n",
       "    <tr>\n",
       "      <th>1</th>\n",
       "      <td>CTY ĐIỆN LỰC SƠN LA</td>\n",
       "      <td>NMTĐ SUỐI SẬP 2</td>\n",
       "      <td>G2A000S000M331</td>\n",
       "      <td>2021-01-01 01:00:00</td>\n",
       "      <td>0.0</td>\n",
       "    </tr>\n",
       "    <tr>\n",
       "      <th>2</th>\n",
       "      <td>CTY ĐIỆN LỰC SƠN LA</td>\n",
       "      <td>NMTĐ SUỐI SẬP 2</td>\n",
       "      <td>G2A000S000M331</td>\n",
       "      <td>2021-01-01 01:30:00</td>\n",
       "      <td>0.0</td>\n",
       "    </tr>\n",
       "    <tr>\n",
       "      <th>3</th>\n",
       "      <td>CTY ĐIỆN LỰC SƠN LA</td>\n",
       "      <td>NMTĐ SUỐI SẬP 2</td>\n",
       "      <td>G2A000S000M331</td>\n",
       "      <td>2021-01-01 02:00:00</td>\n",
       "      <td>0.0</td>\n",
       "    </tr>\n",
       "    <tr>\n",
       "      <th>4</th>\n",
       "      <td>CTY ĐIỆN LỰC SƠN LA</td>\n",
       "      <td>NMTĐ SUỐI SẬP 2</td>\n",
       "      <td>G2A000S000M331</td>\n",
       "      <td>2021-01-01 02:30:00</td>\n",
       "      <td>0.0</td>\n",
       "    </tr>\n",
       "    <tr>\n",
       "      <th>...</th>\n",
       "      <td>...</td>\n",
       "      <td>...</td>\n",
       "      <td>...</td>\n",
       "      <td>...</td>\n",
       "      <td>...</td>\n",
       "    </tr>\n",
       "    <tr>\n",
       "      <th>18404859</th>\n",
       "      <td>CTY ĐIỆN LỰC TUYÊN QUANG</td>\n",
       "      <td>NMTĐ Sông Lô 8B</td>\n",
       "      <td>G2A214S000M131</td>\n",
       "      <td>2024-08-07 01:30:00</td>\n",
       "      <td>0.0</td>\n",
       "    </tr>\n",
       "    <tr>\n",
       "      <th>18404860</th>\n",
       "      <td>CTY ĐIỆN LỰC TUYÊN QUANG</td>\n",
       "      <td>NMTĐ Sông Lô 8B</td>\n",
       "      <td>G2A214S000M131</td>\n",
       "      <td>2024-08-07 02:00:00</td>\n",
       "      <td>0.0</td>\n",
       "    </tr>\n",
       "    <tr>\n",
       "      <th>18404861</th>\n",
       "      <td>CTY ĐIỆN LỰC TUYÊN QUANG</td>\n",
       "      <td>NMTĐ Sông Lô 8B</td>\n",
       "      <td>G2A214S000M131</td>\n",
       "      <td>2024-08-07 05:30:00</td>\n",
       "      <td>0.0</td>\n",
       "    </tr>\n",
       "    <tr>\n",
       "      <th>18404862</th>\n",
       "      <td>CTY ĐIỆN LỰC TUYÊN QUANG</td>\n",
       "      <td>NMTĐ Sông Lô 8B</td>\n",
       "      <td>G2A214S000M131</td>\n",
       "      <td>2024-08-07 06:00:00</td>\n",
       "      <td>17.0</td>\n",
       "    </tr>\n",
       "    <tr>\n",
       "      <th>18404863</th>\n",
       "      <td>CTY ĐIỆN LỰC TUYÊN QUANG</td>\n",
       "      <td>NMTĐ Sông Lô 8B</td>\n",
       "      <td>G2A214S000M131</td>\n",
       "      <td>2024-08-07 00:30:00</td>\n",
       "      <td>0.0</td>\n",
       "    </tr>\n",
       "  </tbody>\n",
       "</table>\n",
       "<p>18404864 rows × 5 columns</p>\n",
       "</div>"
      ],
      "text/plain": [
       "                              CTDL             NMTD        MADIEMDO  \\\n",
       "0              CTY ĐIỆN LỰC SƠN LA  NMTĐ SUỐI SẬP 2  G2A000S000M331   \n",
       "1              CTY ĐIỆN LỰC SƠN LA  NMTĐ SUỐI SẬP 2  G2A000S000M331   \n",
       "2              CTY ĐIỆN LỰC SƠN LA  NMTĐ SUỐI SẬP 2  G2A000S000M331   \n",
       "3              CTY ĐIỆN LỰC SƠN LA  NMTĐ SUỐI SẬP 2  G2A000S000M331   \n",
       "4              CTY ĐIỆN LỰC SƠN LA  NMTĐ SUỐI SẬP 2  G2A000S000M331   \n",
       "...                            ...              ...             ...   \n",
       "18404859  CTY ĐIỆN LỰC TUYÊN QUANG  NMTĐ Sông Lô 8B  G2A214S000M131   \n",
       "18404860  CTY ĐIỆN LỰC TUYÊN QUANG  NMTĐ Sông Lô 8B  G2A214S000M131   \n",
       "18404861  CTY ĐIỆN LỰC TUYÊN QUANG  NMTĐ Sông Lô 8B  G2A214S000M131   \n",
       "18404862  CTY ĐIỆN LỰC TUYÊN QUANG  NMTĐ Sông Lô 8B  G2A214S000M131   \n",
       "18404863  CTY ĐIỆN LỰC TUYÊN QUANG  NMTĐ Sông Lô 8B  G2A214S000M131   \n",
       "\n",
       "                        TIME    CS  \n",
       "0        2021-01-01 00:30:00   0.0  \n",
       "1        2021-01-01 01:00:00   0.0  \n",
       "2        2021-01-01 01:30:00   0.0  \n",
       "3        2021-01-01 02:00:00   0.0  \n",
       "4        2021-01-01 02:30:00   0.0  \n",
       "...                      ...   ...  \n",
       "18404859 2024-08-07 01:30:00   0.0  \n",
       "18404860 2024-08-07 02:00:00   0.0  \n",
       "18404861 2024-08-07 05:30:00   0.0  \n",
       "18404862 2024-08-07 06:00:00  17.0  \n",
       "18404863 2024-08-07 00:30:00   0.0  \n",
       "\n",
       "[18404864 rows x 5 columns]"
      ]
     },
     "execution_count": 15,
     "metadata": {},
     "output_type": "execute_result"
    }
   ],
   "source": [
    "df_all"
   ]
  }
 ],
 "metadata": {
  "kernelspec": {
   "display_name": "Python 3",
   "language": "python",
   "name": "python3"
  },
  "language_info": {
   "codemirror_mode": {
    "name": "ipython",
    "version": 3
   },
   "file_extension": ".py",
   "mimetype": "text/x-python",
   "name": "python",
   "nbconvert_exporter": "python",
   "pygments_lexer": "ipython3",
   "version": "3.8.10"
  }
 },
 "nbformat": 4,
 "nbformat_minor": 5
}
