{
 "cells": [
  {
   "cell_type": "code",
   "execution_count": 1,
   "id": "23bc2ce1",
   "metadata": {},
   "outputs": [
    {
     "name": "stdout",
     "output_type": "stream",
     "text": [
      "🔄 Bắt đầu đọc dữ liệu Parquet...\n",
      "🔍 Tìm thấy 4 file Parquet. Bắt đầu đọc...\n",
      "   Ghép các DataFrame...\n",
      "✅ Đọc và ghép 4 file thành công.\n",
      "👉 Tổng số dòng: 18,404,864\n",
      "⏱️ Thời gian đọc và ghép: 6.71 giây\n"
     ]
    }
   ],
   "source": [
    "import pandas as pd\n",
    "import time\n",
    "import os\n",
    "#ignore warnings\n",
    "import warnings\n",
    "warnings.filterwarnings(\"ignore\")\n",
    "\n",
    "print(\"🔄 Bắt đầu đọc dữ liệu Parquet...\")\n",
    "start_read_time = time.time()  # Đo thời gian đọc\n",
    "parquet_folder = r\"C:\\Khue\\TDN\\data\\processed\"\n",
    "\n",
    "try:\n",
    "    all_files_in_folder = os.listdir(parquet_folder)\n",
    "    parquet_files = [\n",
    "        os.path.join(parquet_folder, f)\n",
    "        for f in all_files_in_folder\n",
    "        if f.startswith(\"sanluong_\") and f.endswith(\".parquet\")\n",
    "    ]\n",
    "\n",
    "    if not parquet_files:\n",
    "        print(f\"⚠️ Không tìm thấy file Parquet trong: {parquet_folder}\")\n",
    "        df_all = pd.DataFrame()\n",
    "    else:\n",
    "        df_list = []\n",
    "        print(f\"🔍 Tìm thấy {len(parquet_files)} file Parquet. Bắt đầu đọc...\")\n",
    "        for i, f in enumerate(parquet_files):\n",
    "            try:\n",
    "                df_temp = pd.read_parquet(f, engine=\"pyarrow\")\n",
    "                # Chỉ đọc các cột thực sự cần thiết ngay từ đầu để tiết kiệm bộ nhớ\n",
    "                required_cols_read = [\"CTDL\", \"NMTD\", \"MADIEMDO\", \"ENDTIME\", \"CS\"]\n",
    "                if all(col in df_temp.columns for col in required_cols_read):\n",
    "                    df_list.append(df_temp[required_cols_read])  # Chỉ lấy cột cần thiết\n",
    "                else:\n",
    "                    print(f\"   ⚠️ File {os.path.basename(f)} thiếu cột, bỏ qua.\")\n",
    "            except Exception as e:\n",
    "                print(f\"❌ Lỗi đọc file {os.path.basename(f)}: {e}\")\n",
    "\n",
    "        if df_list:\n",
    "            print(\"   Ghép các DataFrame...\")\n",
    "            df_all = pd.concat(df_list, ignore_index=True)\n",
    "            print(f\"✅ Đọc và ghép {len(df_list)} file thành công.\")\n",
    "            print(f\"👉 Tổng số dòng: {df_all.shape[0]:,}\")\n",
    "            print(f\"⏱️ Thời gian đọc và ghép: {time.time() - start_read_time:.2f} giây\")\n",
    "            # Hiển thị thông tin bộ nhớ (tùy chọn)\n",
    "            # df_all.info(memory_usage='deep')\n",
    "        else:\n",
    "            print(\"❌ Không đọc được file nào thành công.\")\n",
    "            df_all = pd.DataFrame()\n",
    "\n",
    "except FileNotFoundError:\n",
    "    print(f\"❌ Lỗi: Không tìm thấy thư mục: {parquet_folder}\")\n",
    "    df_all = pd.DataFrame()\n",
    "except Exception as e:\n",
    "    print(f\"❌ Lỗi không xác định khi đọc file/thư mục: {e}\")\n",
    "    df_all = pd.DataFrame()"
   ]
  },
  {
   "cell_type": "code",
   "execution_count": 2,
   "id": "b6cb750a",
   "metadata": {},
   "outputs": [
    {
     "name": "stdout",
     "output_type": "stream",
     "text": [
      "🔍 Tổng số dòng trước khi lọc theo độ phân giải 30 phút: 18,404,864\n",
      "⚠️ Đã loại bỏ 60,706 dòng có thời gian không theo độ phân giải 30 phút chẵn\n",
      "✅ Còn lại 18,344,158 dòng dữ liệu hợp lệ\n",
      "📊 Tỷ lệ dữ liệu hợp lệ: 99.67%\n",
      "💾 Đã lưu 60,706 dòng không hợp lệ vào df_removed\n",
      "\n",
      "Phân phối giá trị phút không hợp lệ:\n",
      "TIME\n",
      "0       284\n",
      "1       270\n",
      "2       285\n",
      "3       263\n",
      "4       387\n",
      "5       367\n",
      "6       362\n",
      "7       296\n",
      "8       226\n",
      "9       241\n",
      "10      196\n",
      "11      194\n",
      "12      215\n",
      "13      209\n",
      "14      212\n",
      "15    22933\n",
      "16      207\n",
      "17      174\n",
      "18      186\n",
      "19      199\n",
      "20      205\n",
      "21      204\n",
      "22      184\n",
      "23      207\n",
      "24      230\n",
      "25      249\n",
      "26      299\n",
      "27      382\n",
      "28      373\n",
      "29      359\n",
      "30      386\n",
      "31      387\n",
      "32      305\n",
      "33      294\n",
      "34      371\n",
      "35      381\n",
      "36      440\n",
      "37      275\n",
      "38      239\n",
      "39      221\n",
      "40      226\n",
      "41      198\n",
      "42      203\n",
      "43      207\n",
      "44      147\n",
      "45    22900\n",
      "46      215\n",
      "47      175\n",
      "48      195\n",
      "49      180\n",
      "50      185\n",
      "51      183\n",
      "52      218\n",
      "53      201\n",
      "54      229\n",
      "55      236\n",
      "56      242\n",
      "57      307\n",
      "58      275\n",
      "59      287\n",
      "Name: count, dtype: int64\n"
     ]
    }
   ],
   "source": [
    "# Đổi tên cột ENDTIME thành TIME để dễ hiểu hơn\n",
    "df_all = df_all.rename(columns={\"ENDTIME\": \"TIME\"})\n",
    "\n",
    "# Chuyển đổi kiểu dữ liệu cho cột TIME nếu cột này tồn tại\n",
    "if \"TIME\" in df_all.columns:\n",
    "    df_all[\"TIME\"] = pd.to_datetime(df_all[\"TIME\"], errors=\"coerce\", format=\"%Y-%m-%d %H:%M:%S\")\n",
    "    \n",
    "    # Số lượng dòng ban đầu trước khi lọc\n",
    "    initial_rows = len(df_all)\n",
    "    print(f\"🔍 Tổng số dòng trước khi lọc theo độ phân giải 30 phút: {initial_rows:,}\")\n",
    "    \n",
    "    # Lọc các dòng dữ liệu có phút là 0 hoặc 30 và giây là 0\n",
    "    valid_time_mask = (\n",
    "        ((df_all[\"TIME\"].dt.minute == 0) | (df_all[\"TIME\"].dt.minute == 30)) \n",
    "        & (df_all[\"TIME\"].dt.second == 0)\n",
    "    )\n",
    "    \n",
    "    # Lưu những dòng không hợp lệ vào df_removed trước khi lọc\n",
    "    df_removed = df_all[~valid_time_mask].copy()\n",
    "    \n",
    "    # Áp dụng bộ lọc vào df_all\n",
    "    df_all = df_all[valid_time_mask]\n",
    "    \n",
    "    # Sắp xếp dữ liệu theo CTDL, NMTD và TIME\n",
    "    df_all = df_all.sort_values(by=[\"CTDL\", \"NMTD\", \"TIME\"])\n",
    "    \n",
    "    # Báo cáo kết quả\n",
    "    removed_rows = initial_rows - len(df_all)\n",
    "    print(f\"⚠️ Đã loại bỏ {removed_rows:,} dòng có thời gian không theo độ phân giải 30 phút chẵn\")\n",
    "    print(f\"✅ Còn lại {len(df_all):,} dòng dữ liệu hợp lệ\")\n",
    "    print(f\"📊 Tỷ lệ dữ liệu hợp lệ: {(len(df_all) / initial_rows * 100):.2f}%\")\n",
    "    \n",
    "    if not df_removed.empty:\n",
    "        print(f\"💾 Đã lưu {len(df_removed):,} dòng không hợp lệ vào df_removed\")\n",
    "        # Hiển thị phân phối các giá trị phút không hợp lệ\n",
    "        invalid_minutes = df_removed[\"TIME\"].dt.minute.value_counts().sort_index()\n",
    "        if not invalid_minutes.empty:\n",
    "            print(\"\\nPhân phối giá trị phút không hợp lệ:\")\n",
    "            print(invalid_minutes)\n",
    "            \n",
    "    # Gán kết quả cho df để sử dụng trong các cell tiếp theo\n",
    "    df = df_all.copy()"
   ]
  },
  {
   "cell_type": "code",
   "execution_count": 3,
   "id": "c6bc5bfd",
   "metadata": {},
   "outputs": [
    {
     "data": {
      "application/vnd.microsoft.datawrangler.viewer.v0+json": {
       "columns": [
        {
         "name": "index",
         "rawType": "int64",
         "type": "integer"
        },
        {
         "name": "CTDL",
         "rawType": "object",
         "type": "string"
        },
        {
         "name": "NMTD",
         "rawType": "object",
         "type": "unknown"
        },
        {
         "name": "MADIEMDO",
         "rawType": "object",
         "type": "string"
        },
        {
         "name": "TIME",
         "rawType": "datetime64[ns]",
         "type": "datetime"
        },
        {
         "name": "CS",
         "rawType": "float64",
         "type": "float"
        }
       ],
       "conversionMethod": "pd.DataFrame",
       "ref": "06fde973-bbfb-4e9f-8869-553e58b26185",
       "rows": [
        [
         "4265821",
         "CTY ĐIỆN LỰC BẮC KẠN",
         "NMTĐ PÁC CÁP",
         "G2A234S000M331",
         "2021-07-27 08:05:00",
         "0.0"
        ],
        [
         "4265823",
         "CTY ĐIỆN LỰC BẮC KẠN",
         "NMTĐ PÁC CÁP",
         "G2A234S000M331",
         "2021-07-27 08:15:00",
         "0.0"
        ],
        [
         "4265828",
         "CTY ĐIỆN LỰC BẮC KẠN",
         "NMTĐ PÁC CÁP",
         "G2A234S000M331",
         "2021-07-27 08:40:00",
         "0.0"
        ],
        [
         "4265894",
         "CTY ĐIỆN LỰC BẮC KẠN",
         "NMTĐ PÁC CÁP",
         "G2A234S000M331",
         "2021-08-28 16:35:00",
         "0.0"
        ],
        [
         "4265895",
         "CTY ĐIỆN LỰC BẮC KẠN",
         "NMTĐ PÁC CÁP",
         "G2A234S000M331",
         "2021-08-28 16:40:00",
         "0.0"
        ],
        [
         "4265896",
         "CTY ĐIỆN LỰC BẮC KẠN",
         "NMTĐ PÁC CÁP",
         "G2A234S000M331",
         "2021-08-28 16:45:00",
         "0.0"
        ],
        [
         "4358707",
         "CTY ĐIỆN LỰC SƠN LA",
         "NMTĐ SUỐI SẬP 2",
         "G2A000S000M331",
         "2022-01-23 03:26:44",
         "0.0"
        ],
        [
         "4358708",
         "CTY ĐIỆN LỰC SƠN LA",
         "NMTĐ SUỐI SẬP 2",
         "G2A000S000M331",
         "2022-01-23 21:58:24",
         "0.0"
        ],
        [
         "4360146",
         "CTY ĐIỆN LỰC SƠN LA",
         "NMTĐ SUỐI SẬP 2",
         "G2A000S000M331",
         "2022-02-23 14:28:18",
         "0.0"
        ],
        [
         "4360147",
         "CTY ĐIỆN LỰC SƠN LA",
         "NMTĐ SUỐI SẬP 2",
         "G2A000S000M331",
         "2022-02-23 14:31:15",
         "0.0"
        ],
        [
         "4361027",
         "CTY ĐIỆN LỰC SƠN LA",
         "NMTĐ SUỐI SẬP 2",
         "G2A000S000M331",
         "2022-03-13 22:29:29",
         "0.0"
        ],
        [
         "4361028",
         "CTY ĐIỆN LỰC SƠN LA",
         "NMTĐ SUỐI SẬP 2",
         "G2A000S000M331",
         "2022-03-13 22:30:21",
         "0.0"
        ],
        [
         "4361455",
         "CTY ĐIỆN LỰC SƠN LA",
         "NMTĐ SUỐI SẬP 2",
         "G2A000S000M331",
         "2022-03-22 19:59:47",
         "30.0"
        ],
        [
         "4362594",
         "CTY ĐIỆN LỰC SƠN LA",
         "NMTĐ SUỐI SẬP 2",
         "G2A000S000M331",
         "2022-04-15 12:59:27",
         "0.0"
        ],
        [
         "4362595",
         "CTY ĐIỆN LỰC SƠN LA",
         "NMTĐ SUỐI SẬP 2",
         "G2A000S000M331",
         "2022-04-15 13:00:41",
         "0.0"
        ],
        [
         "4362668",
         "CTY ĐIỆN LỰC SƠN LA",
         "NMTĐ SUỐI SẬP 2",
         "G2A000S000M331",
         "2022-04-17 01:26:01",
         "0.0"
        ],
        [
         "4362669",
         "CTY ĐIỆN LỰC SƠN LA",
         "NMTĐ SUỐI SẬP 2",
         "G2A000S000M331",
         "2022-04-17 05:54:50",
         "0.0"
        ],
        [
         "4362709",
         "CTY ĐIỆN LỰC SƠN LA",
         "NMTĐ SUỐI SẬP 2",
         "G2A000S000M331",
         "2022-04-18 01:03:16",
         "0.0"
        ],
        [
         "4362710",
         "CTY ĐIỆN LỰC SƠN LA",
         "NMTĐ SUỐI SẬP 2",
         "G2A000S000M331",
         "2022-04-18 01:47:08",
         "0.0"
        ],
        [
         "4362711",
         "CTY ĐIỆN LỰC SƠN LA",
         "NMTĐ SUỐI SẬP 2",
         "G2A000S000M331",
         "2022-04-18 01:54:56",
         "0.0"
        ],
        [
         "4362712",
         "CTY ĐIỆN LỰC SƠN LA",
         "NMTĐ SUỐI SẬP 2",
         "G2A000S000M331",
         "2022-04-18 04:59:12",
         "0.0"
        ],
        [
         "4362972",
         "CTY ĐIỆN LỰC SƠN LA",
         "NMTĐ SUỐI SẬP 2",
         "G2A000S000M331",
         "2022-04-23 14:28:07",
         "0.0"
        ],
        [
         "4362973",
         "CTY ĐIỆN LỰC SƠN LA",
         "NMTĐ SUỐI SẬP 2",
         "G2A000S000M331",
         "2022-04-23 16:48:09",
         "0.0"
        ],
        [
         "4363013",
         "CTY ĐIỆN LỰC SƠN LA",
         "NMTĐ SUỐI SẬP 2",
         "G2A000S000M331",
         "2022-04-24 12:13:43",
         "0.0"
        ],
        [
         "4363014",
         "CTY ĐIỆN LỰC SƠN LA",
         "NMTĐ SUỐI SẬP 2",
         "G2A000S000M331",
         "2022-04-24 13:39:59",
         "0.0"
        ],
        [
         "4363194",
         "CTY ĐIỆN LỰC SƠN LA",
         "NMTĐ SUỐI SẬP 2",
         "G2A000S000M331",
         "2022-04-28 07:29:03",
         "0.0"
        ],
        [
         "4363195",
         "CTY ĐIỆN LỰC SƠN LA",
         "NMTĐ SUỐI SẬP 2",
         "G2A000S000M331",
         "2022-04-28 07:30:10",
         "0.0"
        ],
        [
         "4363696",
         "CTY ĐIỆN LỰC SƠN LA",
         "NMTĐ SUỐI SẬP 2",
         "G2A000S000M331",
         "2022-05-08 17:32:33",
         "0.0"
        ],
        [
         "4363697",
         "CTY ĐIỆN LỰC SƠN LA",
         "NMTĐ SUỐI SẬP 2",
         "G2A000S000M331",
         "2022-05-08 18:16:55",
         "0.0"
        ],
        [
         "4364659",
         "CTY ĐIỆN LỰC SƠN LA",
         "NMTĐ SUỐI SẬP 2",
         "G2A000S000M331",
         "2022-05-28 18:31:02",
         "0.0"
        ],
        [
         "4364660",
         "CTY ĐIỆN LỰC SƠN LA",
         "NMTĐ SUỐI SẬP 2",
         "G2A000S000M331",
         "2022-05-28 19:12:01",
         "0.0"
        ],
        [
         "4364705",
         "CTY ĐIỆN LỰC SƠN LA",
         "NMTĐ SUỐI SẬP 2",
         "G2A000S000M331",
         "2022-05-29 17:04:36",
         "10.0"
        ],
        [
         "4364706",
         "CTY ĐIỆN LỰC SƠN LA",
         "NMTĐ SUỐI SẬP 2",
         "G2A000S000M331",
         "2022-05-29 19:16:04",
         "10.0"
        ],
        [
         "4364757",
         "CTY ĐIỆN LỰC SƠN LA",
         "NMTĐ SUỐI SẬP 2",
         "G2A000S000M331",
         "2022-05-30 20:22:48",
         "50.0"
        ],
        [
         "4364758",
         "CTY ĐIỆN LỰC SƠN LA",
         "NMTĐ SUỐI SẬP 2",
         "G2A000S000M331",
         "2022-05-30 20:46:38",
         "50.0"
        ],
        [
         "4365351",
         "CTY ĐIỆN LỰC SƠN LA",
         "NMTĐ SUỐI SẬP 2",
         "G2A000S000M331",
         "2022-06-12 04:46:09",
         "0.0"
        ],
        [
         "4365352",
         "CTY ĐIỆN LỰC SƠN LA",
         "NMTĐ SUỐI SẬP 2",
         "G2A000S000M331",
         "2022-06-12 09:08:03",
         "0.0"
        ],
        [
         "4365353",
         "CTY ĐIỆN LỰC SƠN LA",
         "NMTĐ SUỐI SẬP 2",
         "G2A000S000M331",
         "2022-06-12 09:15:28",
         "0.0"
        ],
        [
         "4365354",
         "CTY ĐIỆN LỰC SƠN LA",
         "NMTĐ SUỐI SẬP 2",
         "G2A000S000M331",
         "2022-06-12 14:12:50",
         "0.0"
        ],
        [
         "4365356",
         "CTY ĐIỆN LỰC SƠN LA",
         "NMTĐ SUỐI SẬP 2",
         "G2A000S000M331",
         "2022-06-12 14:53:57",
         "20.0"
        ],
        [
         "4365357",
         "CTY ĐIỆN LỰC SƠN LA",
         "NMTĐ SUỐI SẬP 2",
         "G2A000S000M331",
         "2022-06-12 18:22:02",
         "20.0"
        ],
        [
         "4365401",
         "CTY ĐIỆN LỰC SƠN LA",
         "NMTĐ SUỐI SẬP 2",
         "G2A000S000M331",
         "2022-06-13 15:32:38",
         "0.0"
        ],
        [
         "4365402",
         "CTY ĐIỆN LỰC SƠN LA",
         "NMTĐ SUỐI SẬP 2",
         "G2A000S000M331",
         "2022-06-13 16:17:22",
         "0.0"
        ],
        [
         "4365414",
         "CTY ĐIỆN LỰC SƠN LA",
         "NMTĐ SUỐI SẬP 2",
         "G2A000S000M331",
         "2022-06-13 21:31:51",
         "0.0"
        ],
        [
         "4365415",
         "CTY ĐIỆN LỰC SƠN LA",
         "NMTĐ SUỐI SẬP 2",
         "G2A000S000M331",
         "2022-06-13 23:21:03",
         "0.0"
        ],
        [
         "4365671",
         "CTY ĐIỆN LỰC SƠN LA",
         "NMTĐ SUỐI SẬP 2",
         "G2A000S000M331",
         "2022-06-19 06:33:27",
         "0.0"
        ],
        [
         "4365672",
         "CTY ĐIỆN LỰC SƠN LA",
         "NMTĐ SUỐI SẬP 2",
         "G2A000S000M331",
         "2022-06-19 12:34:47",
         "0.0"
        ],
        [
         "4366443",
         "CTY ĐIỆN LỰC SƠN LA",
         "NMTĐ SUỐI SẬP 2",
         "G2A000S000M331",
         "2022-07-05 13:58:39",
         "50.0"
        ],
        [
         "4366444",
         "CTY ĐIỆN LỰC SƠN LA",
         "NMTĐ SUỐI SẬP 2",
         "G2A000S000M331",
         "2022-07-05 14:40:35",
         "50.0"
        ],
        [
         "4366490",
         "CTY ĐIỆN LỰC SƠN LA",
         "NMTĐ SUỐI SẬP 2",
         "G2A000S000M331",
         "2022-07-09 16:42:51",
         "0.0"
        ]
       ],
       "shape": {
        "columns": 5,
        "rows": 60706
       }
      },
      "text/html": [
       "<div>\n",
       "<style scoped>\n",
       "    .dataframe tbody tr th:only-of-type {\n",
       "        vertical-align: middle;\n",
       "    }\n",
       "\n",
       "    .dataframe tbody tr th {\n",
       "        vertical-align: top;\n",
       "    }\n",
       "\n",
       "    .dataframe thead th {\n",
       "        text-align: right;\n",
       "    }\n",
       "</style>\n",
       "<table border=\"1\" class=\"dataframe\">\n",
       "  <thead>\n",
       "    <tr style=\"text-align: right;\">\n",
       "      <th></th>\n",
       "      <th>CTDL</th>\n",
       "      <th>NMTD</th>\n",
       "      <th>MADIEMDO</th>\n",
       "      <th>TIME</th>\n",
       "      <th>CS</th>\n",
       "    </tr>\n",
       "  </thead>\n",
       "  <tbody>\n",
       "    <tr>\n",
       "      <th>4265821</th>\n",
       "      <td>CTY ĐIỆN LỰC BẮC KẠN</td>\n",
       "      <td>NMTĐ PÁC CÁP</td>\n",
       "      <td>G2A234S000M331</td>\n",
       "      <td>2021-07-27 08:05:00</td>\n",
       "      <td>0.0</td>\n",
       "    </tr>\n",
       "    <tr>\n",
       "      <th>4265823</th>\n",
       "      <td>CTY ĐIỆN LỰC BẮC KẠN</td>\n",
       "      <td>NMTĐ PÁC CÁP</td>\n",
       "      <td>G2A234S000M331</td>\n",
       "      <td>2021-07-27 08:15:00</td>\n",
       "      <td>0.0</td>\n",
       "    </tr>\n",
       "    <tr>\n",
       "      <th>4265828</th>\n",
       "      <td>CTY ĐIỆN LỰC BẮC KẠN</td>\n",
       "      <td>NMTĐ PÁC CÁP</td>\n",
       "      <td>G2A234S000M331</td>\n",
       "      <td>2021-07-27 08:40:00</td>\n",
       "      <td>0.0</td>\n",
       "    </tr>\n",
       "    <tr>\n",
       "      <th>4265894</th>\n",
       "      <td>CTY ĐIỆN LỰC BẮC KẠN</td>\n",
       "      <td>NMTĐ PÁC CÁP</td>\n",
       "      <td>G2A234S000M331</td>\n",
       "      <td>2021-08-28 16:35:00</td>\n",
       "      <td>0.0</td>\n",
       "    </tr>\n",
       "    <tr>\n",
       "      <th>4265895</th>\n",
       "      <td>CTY ĐIỆN LỰC BẮC KẠN</td>\n",
       "      <td>NMTĐ PÁC CÁP</td>\n",
       "      <td>G2A234S000M331</td>\n",
       "      <td>2021-08-28 16:40:00</td>\n",
       "      <td>0.0</td>\n",
       "    </tr>\n",
       "    <tr>\n",
       "      <th>...</th>\n",
       "      <td>...</td>\n",
       "      <td>...</td>\n",
       "      <td>...</td>\n",
       "      <td>...</td>\n",
       "      <td>...</td>\n",
       "    </tr>\n",
       "    <tr>\n",
       "      <th>18393917</th>\n",
       "      <td>CTY ĐIỆN LỰC TUYÊN QUANG</td>\n",
       "      <td>NMTĐ Sông Lô 8B</td>\n",
       "      <td>G2A214S000M131</td>\n",
       "      <td>2024-04-14 17:52:32</td>\n",
       "      <td>0.0</td>\n",
       "    </tr>\n",
       "    <tr>\n",
       "      <th>18403846</th>\n",
       "      <td>CTY ĐIỆN LỰC TUYÊN QUANG</td>\n",
       "      <td>NMTĐ Sông Lô 8B</td>\n",
       "      <td>G2A214S000M132</td>\n",
       "      <td>2024-07-27 20:09:51</td>\n",
       "      <td>28.0</td>\n",
       "    </tr>\n",
       "    <tr>\n",
       "      <th>18403847</th>\n",
       "      <td>CTY ĐIỆN LỰC TUYÊN QUANG</td>\n",
       "      <td>NMTĐ Sông Lô 8B</td>\n",
       "      <td>G2A214S000M132</td>\n",
       "      <td>2024-07-27 20:42:37</td>\n",
       "      <td>0.0</td>\n",
       "    </tr>\n",
       "    <tr>\n",
       "      <th>18403853</th>\n",
       "      <td>CTY ĐIỆN LỰC TUYÊN QUANG</td>\n",
       "      <td>NMTĐ Sông Lô 8B</td>\n",
       "      <td>G2A214S000M131</td>\n",
       "      <td>2024-07-27 20:09:33</td>\n",
       "      <td>37.0</td>\n",
       "    </tr>\n",
       "    <tr>\n",
       "      <th>18403854</th>\n",
       "      <td>CTY ĐIỆN LỰC TUYÊN QUANG</td>\n",
       "      <td>NMTĐ Sông Lô 8B</td>\n",
       "      <td>G2A214S000M131</td>\n",
       "      <td>2024-07-27 20:42:02</td>\n",
       "      <td>5.0</td>\n",
       "    </tr>\n",
       "  </tbody>\n",
       "</table>\n",
       "<p>60706 rows × 5 columns</p>\n",
       "</div>"
      ],
      "text/plain": [
       "                              CTDL             NMTD        MADIEMDO  \\\n",
       "4265821       CTY ĐIỆN LỰC BẮC KẠN     NMTĐ PÁC CÁP  G2A234S000M331   \n",
       "4265823       CTY ĐIỆN LỰC BẮC KẠN     NMTĐ PÁC CÁP  G2A234S000M331   \n",
       "4265828       CTY ĐIỆN LỰC BẮC KẠN     NMTĐ PÁC CÁP  G2A234S000M331   \n",
       "4265894       CTY ĐIỆN LỰC BẮC KẠN     NMTĐ PÁC CÁP  G2A234S000M331   \n",
       "4265895       CTY ĐIỆN LỰC BẮC KẠN     NMTĐ PÁC CÁP  G2A234S000M331   \n",
       "...                            ...              ...             ...   \n",
       "18393917  CTY ĐIỆN LỰC TUYÊN QUANG  NMTĐ Sông Lô 8B  G2A214S000M131   \n",
       "18403846  CTY ĐIỆN LỰC TUYÊN QUANG  NMTĐ Sông Lô 8B  G2A214S000M132   \n",
       "18403847  CTY ĐIỆN LỰC TUYÊN QUANG  NMTĐ Sông Lô 8B  G2A214S000M132   \n",
       "18403853  CTY ĐIỆN LỰC TUYÊN QUANG  NMTĐ Sông Lô 8B  G2A214S000M131   \n",
       "18403854  CTY ĐIỆN LỰC TUYÊN QUANG  NMTĐ Sông Lô 8B  G2A214S000M131   \n",
       "\n",
       "                        TIME    CS  \n",
       "4265821  2021-07-27 08:05:00   0.0  \n",
       "4265823  2021-07-27 08:15:00   0.0  \n",
       "4265828  2021-07-27 08:40:00   0.0  \n",
       "4265894  2021-08-28 16:35:00   0.0  \n",
       "4265895  2021-08-28 16:40:00   0.0  \n",
       "...                      ...   ...  \n",
       "18393917 2024-04-14 17:52:32   0.0  \n",
       "18403846 2024-07-27 20:09:51  28.0  \n",
       "18403847 2024-07-27 20:42:37   0.0  \n",
       "18403853 2024-07-27 20:09:33  37.0  \n",
       "18403854 2024-07-27 20:42:02   5.0  \n",
       "\n",
       "[60706 rows x 5 columns]"
      ]
     },
     "execution_count": 3,
     "metadata": {},
     "output_type": "execute_result"
    }
   ],
   "source": [
    "df_removed"
   ]
  },
  {
   "cell_type": "code",
   "execution_count": 4,
   "id": "dd3a8bbe",
   "metadata": {},
   "outputs": [
    {
     "data": {
      "application/vnd.microsoft.datawrangler.viewer.v0+json": {
       "columns": [
        {
         "name": "index",
         "rawType": "int64",
         "type": "integer"
        },
        {
         "name": "CTDL",
         "rawType": "object",
         "type": "string"
        },
        {
         "name": "NMTD",
         "rawType": "object",
         "type": "string"
        },
        {
         "name": "MADIEMDO",
         "rawType": "object",
         "type": "string"
        },
        {
         "name": "Lỗi đơn vị",
         "rawType": "float64",
         "type": "float"
        }
       ],
       "conversionMethod": "pd.DataFrame",
       "ref": "a9e5114a-5688-4e3b-958f-da6fb045e626",
       "rows": [
        [
         "0",
         "CTY ĐIỆN LỰC BẮC KẠN",
         "NMTĐ NẬM CẮT",
         "G2A123S000M371",
         "0.0"
        ],
        [
         "1",
         "CTY ĐIỆN LỰC BẮC KẠN",
         "NMTĐ PÁC CÁP",
         "G2A234S000M331",
         "0.0"
        ],
        [
         "2",
         "CTY ĐIỆN LỰC BẮC KẠN",
         "NMTĐ TÀ LÀNG",
         "G2A121S000M371",
         "0.0"
        ],
        [
         "3",
         "CTY ĐIỆN LỰC BẮC KẠN",
         "NMTĐ THƯỢNG ÂN",
         "G2A122S000M371",
         "0.0"
        ],
        [
         "4",
         "CTY ĐIỆN LỰC BẮC KẠN",
         "THÁC GIỀNG 1",
         "G2A219S000M371",
         "0.0"
        ],
        [
         "5",
         "CTY ĐIỆN LỰC CAO BẰNG",
         "NMTĐ Bạch Đằng",
         "G2A227S000M371",
         "0.0"
        ],
        [
         "6",
         "CTY ĐIỆN LỰC CAO BẰNG",
         "NMTĐ BẢN HOÀNG",
         "G2A099S000M371",
         "5.0"
        ],
        [
         "7",
         "CTY ĐIỆN LỰC CAO BẰNG",
         "NMTĐ BẢN RẠ",
         "G2A103S000M174",
         "1.0"
        ],
        [
         "8",
         "CTY ĐIỆN LỰC CAO BẰNG",
         "NMTĐ Bảo Lạc B",
         "G2A201S000M131",
         "4.0"
        ],
        [
         "9",
         "CTY ĐIỆN LỰC CAO BẰNG",
         "NMTĐ BẢO LÂM 1",
         "G2A105S000M131",
         "0.0"
        ],
        [
         "10",
         "CTY ĐIỆN LỰC CAO BẰNG",
         "NMTĐ BẢO LÂM 1",
         "G2A105S000M132",
         "0.0"
        ],
        [
         "11",
         "CTY ĐIỆN LỰC CAO BẰNG",
         "NMTĐ BẢO LÂM 3A",
         "G2A142S000M172",
         "1.0"
        ],
        [
         "12",
         "CTY ĐIỆN LỰC CAO BẰNG",
         "NMTĐ Bình Long",
         "G2A264S000M331",
         "0.0"
        ],
        [
         "13",
         "CTY ĐIỆN LỰC CAO BẰNG",
         "NMTĐ HÒA THUẬN",
         "G2A170S000M132",
         "0.0"
        ],
        [
         "14",
         "CTY ĐIỆN LỰC CAO BẰNG",
         "NMTĐ HÒA THUẬN",
         "G2A170S000M131",
         "0.0"
        ],
        [
         "15",
         "CTY ĐIỆN LỰC CAO BẰNG",
         "NMTĐ KHUỔI LUÔNG",
         "G2A186S000M371",
         null
        ],
        [
         "16",
         "CTY ĐIỆN LỰC CAO BẰNG",
         "NMTĐ MÔNG ÂN",
         "G2A191S000M132",
         "0.0"
        ],
        [
         "17",
         "CTY ĐIỆN LỰC CAO BẰNG",
         "NMTĐ MÔNG ÂN",
         "G2A191S000M131",
         "0.0"
        ],
        [
         "18",
         "CTY ĐIỆN LỰC CAO BẰNG",
         "NMTĐ NÀ LÒA",
         "G2A100S000M371",
         "0.0"
        ],
        [
         "19",
         "CTY ĐIỆN LỰC CAO BẰNG",
         "NMTĐ NÀ TẨU",
         "G2A102S000M371",
         "1.0"
        ],
        [
         "20",
         "CTY ĐIỆN LỰC CAO BẰNG",
         "NMTĐ NAM QUANG",
         "G2A143S000M331",
         "0.0"
        ],
        [
         "21",
         "CTY ĐIỆN LỰC CAO BẰNG",
         "NMTĐ Sông Nhiệm 4",
         "G2A200S000M131",
         "0.0"
        ],
        [
         "22",
         "CTY ĐIỆN LỰC CAO BẰNG",
         "NMTĐ THÂN GIÁP",
         "G2A161S000M371",
         "0.0"
        ],
        [
         "23",
         "CTY ĐIỆN LỰC CAO BẰNG",
         "NMTĐ THOONG CÓT 2",
         "G2A104S000M371",
         "0.0"
        ],
        [
         "24",
         "CTY ĐIỆN LỰC CAO BẰNG",
         "NMTĐ THOONG GOT",
         "G2A101S000M371",
         "0.0"
        ],
        [
         "25",
         "CTY ĐIỆN LỰC CAO BẰNG",
         "NMTĐ TIÊN THÀNH",
         "G2A189S000M331",
         "0.0"
        ],
        [
         "26",
         "CTY ĐIỆN LỰC ĐIỆN BIÊN",
         "NMTĐ Đề Bâu",
         "G2A283S000M331",
         "3.0"
        ],
        [
         "27",
         "CTY ĐIỆN LỰC ĐIỆN BIÊN",
         "NMTĐ Huổi Chan 1",
         "G2A267S000M131",
         "2.0"
        ],
        [
         "28",
         "CTY ĐIỆN LỰC ĐIỆN BIÊN",
         "NMTĐ Huổi Vang",
         "G2A233S000M131",
         "0.0"
        ],
        [
         "29",
         "CTY ĐIỆN LỰC ĐIỆN BIÊN",
         "NMTĐ Mùn Chung 2",
         "G2A251S000M331",
         "0.0"
        ],
        [
         "30",
         "CTY ĐIỆN LỰC ĐIỆN BIÊN",
         "NMTĐ Mường Luân",
         "G2A259S000M131",
         "4.0"
        ],
        [
         "31",
         "CTY ĐIỆN LỰC ĐIỆN BIÊN",
         "NMTĐ NÀ LƠI-THÁC TRẮNG",
         "G2A031S000M371",
         "0.0"
        ],
        [
         "32",
         "CTY ĐIỆN LỰC ĐIỆN BIÊN",
         "NMTĐ NÀ LƠI-THÁC TRẮNG",
         "G2A032S000M371",
         "0.0"
        ],
        [
         "33",
         "CTY ĐIỆN LỰC ĐIỆN BIÊN",
         "NMTĐ NA SON",
         "G2A149S000M371",
         "1.0"
        ],
        [
         "34",
         "CTY ĐIỆN LỰC ĐIỆN BIÊN",
         "NMTĐ NẬM HE",
         "G2A034S000M131",
         "0.0"
        ],
        [
         "35",
         "CTY ĐIỆN LỰC ĐIỆN BIÊN",
         "NMTĐ NẬM HÓA",
         "G2A035S000M171",
         "0.0"
        ],
        [
         "36",
         "CTY ĐIỆN LỰC ĐIỆN BIÊN",
         "NMTĐ NẬM KHẨU HU",
         "G2A152S000M331",
         "1.0"
        ],
        [
         "37",
         "CTY ĐIỆN LỰC ĐIỆN BIÊN",
         "NMTĐ NẬM MU 2",
         "G2A148S000M131",
         "0.0"
        ],
        [
         "38",
         "CTY ĐIỆN LỰC ĐIỆN BIÊN",
         "NMTĐ NẬM NÚA",
         "G2A136S000M132",
         "1.0"
        ],
        [
         "39",
         "CTY ĐIỆN LỰC ĐIỆN BIÊN",
         "NMTĐ NẬM NÚA",
         "G2A136S000M131",
         "1.0"
        ],
        [
         "40",
         "CTY ĐIỆN LỰC ĐIỆN BIÊN",
         "NMTĐ PA KHOANG",
         "G2A033S000M371",
         "0.0"
        ],
        [
         "41",
         "CTY ĐIỆN LỰC ĐIỆN BIÊN",
         "NMTĐ Sông Mã 3",
         "G2A258S000M131",
         "0.0"
        ],
        [
         "42",
         "CTY ĐIỆN LỰC ĐIỆN BIÊN",
         "NMTĐ Sông Mã 3",
         "G2A258S000M132",
         "0.0"
        ],
        [
         "43",
         "CTY ĐIỆN LỰC ĐIỆN BIÊN",
         "NMTĐ TRUNG THU",
         "G2A036S000M132",
         "0.0"
        ],
        [
         "44",
         "CTY ĐIỆN LỰC ĐIỆN BIÊN",
         "NMTĐ TRUNG THU",
         "G2A036S000M131",
         "0.0"
        ],
        [
         "45",
         "CTY ĐIỆN LỰC HÀ GIANG",
         "NMTĐ BẢN RỊA",
         "G2A050S000M371",
         "0.0"
        ],
        [
         "46",
         "CTY ĐIỆN LỰC HÀ GIANG",
         "NMTĐ BÁT ĐẠI SƠN",
         "G2A049S000M332",
         "0.0"
        ],
        [
         "47",
         "CTY ĐIỆN LỰC HÀ GIANG",
         "NMTĐ BÁT ĐẠI SƠN",
         "G2A049S000M331",
         "0.0"
        ],
        [
         "48",
         "CTY ĐIỆN LỰC HÀ GIANG",
         "NMTĐ HẠ THÀNH 302",
         "G2A045S000M471",
         "0.0"
        ],
        [
         "49",
         "CTY ĐIỆN LỰC HÀ GIANG",
         "NMTĐ Mận Thắng",
         "G2A274S000M131",
         "0.0"
        ]
       ],
       "shape": {
        "columns": 4,
        "rows": 357
       }
      },
      "text/html": [
       "<div>\n",
       "<style scoped>\n",
       "    .dataframe tbody tr th:only-of-type {\n",
       "        vertical-align: middle;\n",
       "    }\n",
       "\n",
       "    .dataframe tbody tr th {\n",
       "        vertical-align: top;\n",
       "    }\n",
       "\n",
       "    .dataframe thead th {\n",
       "        text-align: right;\n",
       "    }\n",
       "</style>\n",
       "<table border=\"1\" class=\"dataframe\">\n",
       "  <thead>\n",
       "    <tr style=\"text-align: right;\">\n",
       "      <th></th>\n",
       "      <th>CTDL</th>\n",
       "      <th>NMTD</th>\n",
       "      <th>MADIEMDO</th>\n",
       "      <th>Lỗi đơn vị</th>\n",
       "    </tr>\n",
       "  </thead>\n",
       "  <tbody>\n",
       "    <tr>\n",
       "      <th>0</th>\n",
       "      <td>CTY ĐIỆN LỰC BẮC KẠN</td>\n",
       "      <td>NMTĐ NẬM CẮT</td>\n",
       "      <td>G2A123S000M371</td>\n",
       "      <td>0.0</td>\n",
       "    </tr>\n",
       "    <tr>\n",
       "      <th>1</th>\n",
       "      <td>CTY ĐIỆN LỰC BẮC KẠN</td>\n",
       "      <td>NMTĐ PÁC CÁP</td>\n",
       "      <td>G2A234S000M331</td>\n",
       "      <td>0.0</td>\n",
       "    </tr>\n",
       "    <tr>\n",
       "      <th>2</th>\n",
       "      <td>CTY ĐIỆN LỰC BẮC KẠN</td>\n",
       "      <td>NMTĐ TÀ LÀNG</td>\n",
       "      <td>G2A121S000M371</td>\n",
       "      <td>0.0</td>\n",
       "    </tr>\n",
       "    <tr>\n",
       "      <th>3</th>\n",
       "      <td>CTY ĐIỆN LỰC BẮC KẠN</td>\n",
       "      <td>NMTĐ THƯỢNG ÂN</td>\n",
       "      <td>G2A122S000M371</td>\n",
       "      <td>0.0</td>\n",
       "    </tr>\n",
       "    <tr>\n",
       "      <th>4</th>\n",
       "      <td>CTY ĐIỆN LỰC BẮC KẠN</td>\n",
       "      <td>THÁC GIỀNG 1</td>\n",
       "      <td>G2A219S000M371</td>\n",
       "      <td>0.0</td>\n",
       "    </tr>\n",
       "    <tr>\n",
       "      <th>...</th>\n",
       "      <td>...</td>\n",
       "      <td>...</td>\n",
       "      <td>...</td>\n",
       "      <td>...</td>\n",
       "    </tr>\n",
       "    <tr>\n",
       "      <th>352</th>\n",
       "      <td>CTY ĐIỆN LỰC YÊN BÁI</td>\n",
       "      <td>NMTĐ Thác Cá 1</td>\n",
       "      <td>G2A247S000M131</td>\n",
       "      <td>1.0</td>\n",
       "    </tr>\n",
       "    <tr>\n",
       "      <th>353</th>\n",
       "      <td>CTY ĐIỆN LỰC YÊN BÁI</td>\n",
       "      <td>NMTĐ Thác Cá 2</td>\n",
       "      <td>G2A222S000M131</td>\n",
       "      <td>1.0</td>\n",
       "    </tr>\n",
       "    <tr>\n",
       "      <th>354</th>\n",
       "      <td>CTY ĐIỆN LỰC YÊN BÁI</td>\n",
       "      <td>NMTĐ THÀO SA CHẢI</td>\n",
       "      <td>G2A286S000M371</td>\n",
       "      <td>0.0</td>\n",
       "    </tr>\n",
       "    <tr>\n",
       "      <th>355</th>\n",
       "      <td>CTY ĐIỆN LỰC YÊN BÁI</td>\n",
       "      <td>NMTĐ TRẠM TẤU</td>\n",
       "      <td>G2A154S000M175</td>\n",
       "      <td>1.0</td>\n",
       "    </tr>\n",
       "    <tr>\n",
       "      <th>356</th>\n",
       "      <td>CTY ĐIỆN LỰC YÊN BÁI</td>\n",
       "      <td>NMTĐ VỰC TUẦN</td>\n",
       "      <td>G2A097S000M371</td>\n",
       "      <td>1.0</td>\n",
       "    </tr>\n",
       "  </tbody>\n",
       "</table>\n",
       "<p>357 rows × 4 columns</p>\n",
       "</div>"
      ],
      "text/plain": [
       "                     CTDL               NMTD        MADIEMDO  Lỗi đơn vị\n",
       "0    CTY ĐIỆN LỰC BẮC KẠN       NMTĐ NẬM CẮT  G2A123S000M371         0.0\n",
       "1    CTY ĐIỆN LỰC BẮC KẠN       NMTĐ PÁC CÁP  G2A234S000M331         0.0\n",
       "2    CTY ĐIỆN LỰC BẮC KẠN       NMTĐ TÀ LÀNG  G2A121S000M371         0.0\n",
       "3    CTY ĐIỆN LỰC BẮC KẠN     NMTĐ THƯỢNG ÂN  G2A122S000M371         0.0\n",
       "4    CTY ĐIỆN LỰC BẮC KẠN       THÁC GIỀNG 1  G2A219S000M371         0.0\n",
       "..                    ...                ...             ...         ...\n",
       "352  CTY ĐIỆN LỰC YÊN BÁI     NMTĐ Thác Cá 1  G2A247S000M131         1.0\n",
       "353  CTY ĐIỆN LỰC YÊN BÁI     NMTĐ Thác Cá 2  G2A222S000M131         1.0\n",
       "354  CTY ĐIỆN LỰC YÊN BÁI  NMTĐ THÀO SA CHẢI  G2A286S000M371         0.0\n",
       "355  CTY ĐIỆN LỰC YÊN BÁI      NMTĐ TRẠM TẤU  G2A154S000M175         1.0\n",
       "356  CTY ĐIỆN LỰC YÊN BÁI      NMTĐ VỰC TUẦN  G2A097S000M371         1.0\n",
       "\n",
       "[357 rows x 4 columns]"
      ]
     },
     "execution_count": 4,
     "metadata": {},
     "output_type": "execute_result"
    }
   ],
   "source": [
    "df_ref = pd.read_excel(r\"C:\\Khue\\TDN\\data\\processed\\DanhsachNM_sanluong_20250423.xlsx\", sheet_name=\"Sheet1\", usecols=\"A:D\")\n",
    "df_ref"
   ]
  },
  {
   "cell_type": "code",
   "execution_count": 5,
   "id": "f7e4af81",
   "metadata": {},
   "outputs": [
    {
     "data": {
      "application/vnd.microsoft.datawrangler.viewer.v0+json": {
       "columns": [
        {
         "name": "index",
         "rawType": "int64",
         "type": "integer"
        },
        {
         "name": "CTDL",
         "rawType": "object",
         "type": "string"
        },
        {
         "name": "NMTD",
         "rawType": "object",
         "type": "unknown"
        },
        {
         "name": "MADIEMDO",
         "rawType": "object",
         "type": "string"
        },
        {
         "name": "TIME",
         "rawType": "datetime64[ns]",
         "type": "datetime"
        },
        {
         "name": "CS",
         "rawType": "float64",
         "type": "float"
        },
        {
         "name": "Lỗi đơn vị",
         "rawType": "float64",
         "type": "float"
        }
       ],
       "conversionMethod": "pd.DataFrame",
       "ref": "f81b4e35-cbe0-432d-a45a-7295232bf35f",
       "rows": [
        [
         "0",
         "CTY ĐIỆN LỰC BẮC KẠN",
         "NMTĐ NẬM CẮT",
         "G2A123S000M371",
         "2021-01-01 00:30:00",
         "951.3",
         "0.0"
        ],
        [
         "1",
         "CTY ĐIỆN LỰC BẮC KẠN",
         "NMTĐ NẬM CẮT",
         "G2A123S000M371",
         "2021-01-01 01:00:00",
         "1027.3",
         "0.0"
        ],
        [
         "2",
         "CTY ĐIỆN LỰC BẮC KẠN",
         "NMTĐ NẬM CẮT",
         "G2A123S000M371",
         "2021-01-01 01:30:00",
         "151.64",
         "0.0"
        ],
        [
         "3",
         "CTY ĐIỆN LỰC BẮC KẠN",
         "NMTĐ NẬM CẮT",
         "G2A123S000M371",
         "2021-01-01 02:00:00",
         "0.0",
         "0.0"
        ],
        [
         "4",
         "CTY ĐIỆN LỰC BẮC KẠN",
         "NMTĐ NẬM CẮT",
         "G2A123S000M371",
         "2021-01-01 02:30:00",
         "0.0",
         "0.0"
        ],
        [
         "5",
         "CTY ĐIỆN LỰC BẮC KẠN",
         "NMTĐ NẬM CẮT",
         "G2A123S000M371",
         "2021-01-01 03:00:00",
         "0.0",
         "0.0"
        ],
        [
         "6",
         "CTY ĐIỆN LỰC BẮC KẠN",
         "NMTĐ NẬM CẮT",
         "G2A123S000M371",
         "2021-01-01 03:30:00",
         "0.0",
         "0.0"
        ],
        [
         "7",
         "CTY ĐIỆN LỰC BẮC KẠN",
         "NMTĐ NẬM CẮT",
         "G2A123S000M371",
         "2021-01-01 04:00:00",
         "0.0",
         "0.0"
        ],
        [
         "8",
         "CTY ĐIỆN LỰC BẮC KẠN",
         "NMTĐ NẬM CẮT",
         "G2A123S000M371",
         "2021-01-01 04:30:00",
         "0.0",
         "0.0"
        ],
        [
         "9",
         "CTY ĐIỆN LỰC BẮC KẠN",
         "NMTĐ NẬM CẮT",
         "G2A123S000M371",
         "2021-01-01 05:00:00",
         "0.0",
         "0.0"
        ],
        [
         "10",
         "CTY ĐIỆN LỰC BẮC KẠN",
         "NMTĐ NẬM CẮT",
         "G2A123S000M371",
         "2021-01-01 05:30:00",
         "0.0",
         "0.0"
        ],
        [
         "11",
         "CTY ĐIỆN LỰC BẮC KẠN",
         "NMTĐ NẬM CẮT",
         "G2A123S000M371",
         "2021-01-01 06:00:00",
         "0.0",
         "0.0"
        ],
        [
         "12",
         "CTY ĐIỆN LỰC BẮC KẠN",
         "NMTĐ NẬM CẮT",
         "G2A123S000M371",
         "2021-01-01 06:30:00",
         "0.0",
         "0.0"
        ],
        [
         "13",
         "CTY ĐIỆN LỰC BẮC KẠN",
         "NMTĐ NẬM CẮT",
         "G2A123S000M371",
         "2021-01-01 07:00:00",
         "0.0",
         "0.0"
        ],
        [
         "14",
         "CTY ĐIỆN LỰC BẮC KẠN",
         "NMTĐ NẬM CẮT",
         "G2A123S000M371",
         "2021-01-01 07:30:00",
         "0.0",
         "0.0"
        ],
        [
         "15",
         "CTY ĐIỆN LỰC BẮC KẠN",
         "NMTĐ NẬM CẮT",
         "G2A123S000M371",
         "2021-01-01 08:00:00",
         "0.0",
         "0.0"
        ],
        [
         "16",
         "CTY ĐIỆN LỰC BẮC KẠN",
         "NMTĐ NẬM CẮT",
         "G2A123S000M371",
         "2021-01-01 08:30:00",
         "68.04",
         "0.0"
        ],
        [
         "17",
         "CTY ĐIỆN LỰC BẮC KẠN",
         "NMTĐ NẬM CẮT",
         "G2A123S000M371",
         "2021-01-01 09:00:00",
         "1173.9",
         "0.0"
        ],
        [
         "18",
         "CTY ĐIỆN LỰC BẮC KẠN",
         "NMTĐ NẬM CẮT",
         "G2A123S000M371",
         "2021-01-01 09:30:00",
         "1900.5",
         "0.0"
        ],
        [
         "19",
         "CTY ĐIỆN LỰC BẮC KẠN",
         "NMTĐ NẬM CẮT",
         "G2A123S000M371",
         "2021-01-01 10:00:00",
         "3267.1",
         "0.0"
        ],
        [
         "20",
         "CTY ĐIỆN LỰC BẮC KẠN",
         "NMTĐ NẬM CẮT",
         "G2A123S000M371",
         "2021-01-01 10:30:00",
         "3305.9",
         "0.0"
        ],
        [
         "21",
         "CTY ĐIỆN LỰC BẮC KẠN",
         "NMTĐ NẬM CẮT",
         "G2A123S000M371",
         "2021-01-01 11:00:00",
         "3294.9",
         "0.0"
        ],
        [
         "22",
         "CTY ĐIỆN LỰC BẮC KẠN",
         "NMTĐ NẬM CẮT",
         "G2A123S000M371",
         "2021-01-01 11:30:00",
         "3097.9",
         "0.0"
        ],
        [
         "23",
         "CTY ĐIỆN LỰC BẮC KẠN",
         "NMTĐ NẬM CẮT",
         "G2A123S000M371",
         "2021-01-01 12:00:00",
         "816.92",
         "0.0"
        ],
        [
         "24",
         "CTY ĐIỆN LỰC BẮC KẠN",
         "NMTĐ NẬM CẮT",
         "G2A123S000M371",
         "2021-01-01 12:30:00",
         "0.0",
         "0.0"
        ],
        [
         "25",
         "CTY ĐIỆN LỰC BẮC KẠN",
         "NMTĐ NẬM CẮT",
         "G2A123S000M371",
         "2021-01-01 13:00:00",
         "0.0",
         "0.0"
        ],
        [
         "26",
         "CTY ĐIỆN LỰC BẮC KẠN",
         "NMTĐ NẬM CẮT",
         "G2A123S000M371",
         "2021-01-01 13:30:00",
         "0.0",
         "0.0"
        ],
        [
         "27",
         "CTY ĐIỆN LỰC BẮC KẠN",
         "NMTĐ NẬM CẮT",
         "G2A123S000M371",
         "2021-01-01 14:00:00",
         "0.0",
         "0.0"
        ],
        [
         "28",
         "CTY ĐIỆN LỰC BẮC KẠN",
         "NMTĐ NẬM CẮT",
         "G2A123S000M371",
         "2021-01-01 14:30:00",
         "0.0",
         "0.0"
        ],
        [
         "29",
         "CTY ĐIỆN LỰC BẮC KẠN",
         "NMTĐ NẬM CẮT",
         "G2A123S000M371",
         "2021-01-01 15:00:00",
         "0.0",
         "0.0"
        ],
        [
         "30",
         "CTY ĐIỆN LỰC BẮC KẠN",
         "NMTĐ NẬM CẮT",
         "G2A123S000M371",
         "2021-01-01 15:30:00",
         "0.0",
         "0.0"
        ],
        [
         "31",
         "CTY ĐIỆN LỰC BẮC KẠN",
         "NMTĐ NẬM CẮT",
         "G2A123S000M371",
         "2021-01-01 16:00:00",
         "0.0",
         "0.0"
        ],
        [
         "32",
         "CTY ĐIỆN LỰC BẮC KẠN",
         "NMTĐ NẬM CẮT",
         "G2A123S000M371",
         "2021-01-01 16:30:00",
         "0.0",
         "0.0"
        ],
        [
         "33",
         "CTY ĐIỆN LỰC BẮC KẠN",
         "NMTĐ NẬM CẮT",
         "G2A123S000M371",
         "2021-01-01 17:00:00",
         "984.9",
         "0.0"
        ],
        [
         "34",
         "CTY ĐIỆN LỰC BẮC KẠN",
         "NMTĐ NẬM CẮT",
         "G2A123S000M371",
         "2021-01-01 17:30:00",
         "3307.5",
         "0.0"
        ],
        [
         "35",
         "CTY ĐIỆN LỰC BẮC KẠN",
         "NMTĐ NẬM CẮT",
         "G2A123S000M371",
         "2021-01-01 18:00:00",
         "3318.8",
         "0.0"
        ],
        [
         "36",
         "CTY ĐIỆN LỰC BẮC KẠN",
         "NMTĐ NẬM CẮT",
         "G2A123S000M371",
         "2021-01-01 18:30:00",
         "3283.6",
         "0.0"
        ],
        [
         "37",
         "CTY ĐIỆN LỰC BẮC KẠN",
         "NMTĐ NẬM CẮT",
         "G2A123S000M371",
         "2021-01-01 19:00:00",
         "3055.0",
         "0.0"
        ],
        [
         "38",
         "CTY ĐIỆN LỰC BẮC KẠN",
         "NMTĐ NẬM CẮT",
         "G2A123S000M371",
         "2021-01-01 19:30:00",
         "2540.2",
         "0.0"
        ],
        [
         "39",
         "CTY ĐIỆN LỰC BẮC KẠN",
         "NMTĐ NẬM CẮT",
         "G2A123S000M371",
         "2021-01-01 20:00:00",
         "2084.5",
         "0.0"
        ],
        [
         "40",
         "CTY ĐIỆN LỰC BẮC KẠN",
         "NMTĐ NẬM CẮT",
         "G2A123S000M371",
         "2021-01-01 20:30:00",
         "1339.3",
         "0.0"
        ],
        [
         "41",
         "CTY ĐIỆN LỰC BẮC KẠN",
         "NMTĐ NẬM CẮT",
         "G2A123S000M371",
         "2021-01-01 21:00:00",
         "1341.5",
         "0.0"
        ],
        [
         "42",
         "CTY ĐIỆN LỰC BẮC KẠN",
         "NMTĐ NẬM CẮT",
         "G2A123S000M371",
         "2021-01-01 21:30:00",
         "1204.6",
         "0.0"
        ],
        [
         "43",
         "CTY ĐIỆN LỰC BẮC KẠN",
         "NMTĐ NẬM CẮT",
         "G2A123S000M371",
         "2021-01-01 22:00:00",
         "992.9",
         "0.0"
        ],
        [
         "44",
         "CTY ĐIỆN LỰC BẮC KẠN",
         "NMTĐ NẬM CẮT",
         "G2A123S000M371",
         "2021-01-01 22:30:00",
         "1154.5",
         "0.0"
        ],
        [
         "45",
         "CTY ĐIỆN LỰC BẮC KẠN",
         "NMTĐ NẬM CẮT",
         "G2A123S000M371",
         "2021-01-01 23:00:00",
         "1185.3",
         "0.0"
        ],
        [
         "46",
         "CTY ĐIỆN LỰC BẮC KẠN",
         "NMTĐ NẬM CẮT",
         "G2A123S000M371",
         "2021-01-01 23:30:00",
         "1037.8",
         "0.0"
        ],
        [
         "47",
         "CTY ĐIỆN LỰC BẮC KẠN",
         "NMTĐ NẬM CẮT",
         "G2A123S000M371",
         "2021-01-02 00:00:00",
         "1027.3",
         "0.0"
        ],
        [
         "48",
         "CTY ĐIỆN LỰC BẮC KẠN",
         "NMTĐ NẬM CẮT",
         "G2A123S000M371",
         "2021-01-02 00:30:00",
         "936.66",
         "0.0"
        ],
        [
         "49",
         "CTY ĐIỆN LỰC BẮC KẠN",
         "NMTĐ NẬM CẮT",
         "G2A123S000M371",
         "2021-01-02 01:00:00",
         "966.84",
         "0.0"
        ]
       ],
       "shape": {
        "columns": 6,
        "rows": 18344158
       }
      },
      "text/html": [
       "<div>\n",
       "<style scoped>\n",
       "    .dataframe tbody tr th:only-of-type {\n",
       "        vertical-align: middle;\n",
       "    }\n",
       "\n",
       "    .dataframe tbody tr th {\n",
       "        vertical-align: top;\n",
       "    }\n",
       "\n",
       "    .dataframe thead th {\n",
       "        text-align: right;\n",
       "    }\n",
       "</style>\n",
       "<table border=\"1\" class=\"dataframe\">\n",
       "  <thead>\n",
       "    <tr style=\"text-align: right;\">\n",
       "      <th></th>\n",
       "      <th>CTDL</th>\n",
       "      <th>NMTD</th>\n",
       "      <th>MADIEMDO</th>\n",
       "      <th>TIME</th>\n",
       "      <th>CS</th>\n",
       "      <th>Lỗi đơn vị</th>\n",
       "    </tr>\n",
       "  </thead>\n",
       "  <tbody>\n",
       "    <tr>\n",
       "      <th>0</th>\n",
       "      <td>CTY ĐIỆN LỰC BẮC KẠN</td>\n",
       "      <td>NMTĐ NẬM CẮT</td>\n",
       "      <td>G2A123S000M371</td>\n",
       "      <td>2021-01-01 00:30:00</td>\n",
       "      <td>951.300</td>\n",
       "      <td>0.0</td>\n",
       "    </tr>\n",
       "    <tr>\n",
       "      <th>1</th>\n",
       "      <td>CTY ĐIỆN LỰC BẮC KẠN</td>\n",
       "      <td>NMTĐ NẬM CẮT</td>\n",
       "      <td>G2A123S000M371</td>\n",
       "      <td>2021-01-01 01:00:00</td>\n",
       "      <td>1027.300</td>\n",
       "      <td>0.0</td>\n",
       "    </tr>\n",
       "    <tr>\n",
       "      <th>2</th>\n",
       "      <td>CTY ĐIỆN LỰC BẮC KẠN</td>\n",
       "      <td>NMTĐ NẬM CẮT</td>\n",
       "      <td>G2A123S000M371</td>\n",
       "      <td>2021-01-01 01:30:00</td>\n",
       "      <td>151.640</td>\n",
       "      <td>0.0</td>\n",
       "    </tr>\n",
       "    <tr>\n",
       "      <th>3</th>\n",
       "      <td>CTY ĐIỆN LỰC BẮC KẠN</td>\n",
       "      <td>NMTĐ NẬM CẮT</td>\n",
       "      <td>G2A123S000M371</td>\n",
       "      <td>2021-01-01 02:00:00</td>\n",
       "      <td>0.000</td>\n",
       "      <td>0.0</td>\n",
       "    </tr>\n",
       "    <tr>\n",
       "      <th>4</th>\n",
       "      <td>CTY ĐIỆN LỰC BẮC KẠN</td>\n",
       "      <td>NMTĐ NẬM CẮT</td>\n",
       "      <td>G2A123S000M371</td>\n",
       "      <td>2021-01-01 02:30:00</td>\n",
       "      <td>0.000</td>\n",
       "      <td>0.0</td>\n",
       "    </tr>\n",
       "    <tr>\n",
       "      <th>...</th>\n",
       "      <td>...</td>\n",
       "      <td>...</td>\n",
       "      <td>...</td>\n",
       "      <td>...</td>\n",
       "      <td>...</td>\n",
       "      <td>...</td>\n",
       "    </tr>\n",
       "    <tr>\n",
       "      <th>18344153</th>\n",
       "      <td>CTY ĐIỆN LỰC ĐIỆN BIÊN</td>\n",
       "      <td>NMTĐ Đề Bâu</td>\n",
       "      <td>G2A283S000M331</td>\n",
       "      <td>2024-08-08 08:00:00</td>\n",
       "      <td>0.066</td>\n",
       "      <td>3.0</td>\n",
       "    </tr>\n",
       "    <tr>\n",
       "      <th>18344154</th>\n",
       "      <td>CTY ĐIỆN LỰC ĐIỆN BIÊN</td>\n",
       "      <td>NMTĐ Đề Bâu</td>\n",
       "      <td>G2A283S000M331</td>\n",
       "      <td>2024-08-08 08:30:00</td>\n",
       "      <td>0.066</td>\n",
       "      <td>3.0</td>\n",
       "    </tr>\n",
       "    <tr>\n",
       "      <th>18344155</th>\n",
       "      <td>CTY ĐIỆN LỰC ĐIỆN BIÊN</td>\n",
       "      <td>NMTĐ Đề Bâu</td>\n",
       "      <td>G2A283S000M331</td>\n",
       "      <td>2024-08-08 09:00:00</td>\n",
       "      <td>0.066</td>\n",
       "      <td>3.0</td>\n",
       "    </tr>\n",
       "    <tr>\n",
       "      <th>18344156</th>\n",
       "      <td>CTY ĐIỆN LỰC ĐIỆN BIÊN</td>\n",
       "      <td>NMTĐ Đề Bâu</td>\n",
       "      <td>G2A283S000M331</td>\n",
       "      <td>2024-08-08 09:30:00</td>\n",
       "      <td>0.066</td>\n",
       "      <td>3.0</td>\n",
       "    </tr>\n",
       "    <tr>\n",
       "      <th>18344157</th>\n",
       "      <td>CTY ĐIỆN LỰC ĐIỆN BIÊN</td>\n",
       "      <td>NMTĐ Đề Bâu</td>\n",
       "      <td>G2A283S000M331</td>\n",
       "      <td>2024-08-08 10:00:00</td>\n",
       "      <td>0.066</td>\n",
       "      <td>3.0</td>\n",
       "    </tr>\n",
       "  </tbody>\n",
       "</table>\n",
       "<p>18344158 rows × 6 columns</p>\n",
       "</div>"
      ],
      "text/plain": [
       "                            CTDL          NMTD        MADIEMDO  \\\n",
       "0           CTY ĐIỆN LỰC BẮC KẠN  NMTĐ NẬM CẮT  G2A123S000M371   \n",
       "1           CTY ĐIỆN LỰC BẮC KẠN  NMTĐ NẬM CẮT  G2A123S000M371   \n",
       "2           CTY ĐIỆN LỰC BẮC KẠN  NMTĐ NẬM CẮT  G2A123S000M371   \n",
       "3           CTY ĐIỆN LỰC BẮC KẠN  NMTĐ NẬM CẮT  G2A123S000M371   \n",
       "4           CTY ĐIỆN LỰC BẮC KẠN  NMTĐ NẬM CẮT  G2A123S000M371   \n",
       "...                          ...           ...             ...   \n",
       "18344153  CTY ĐIỆN LỰC ĐIỆN BIÊN   NMTĐ Đề Bâu  G2A283S000M331   \n",
       "18344154  CTY ĐIỆN LỰC ĐIỆN BIÊN   NMTĐ Đề Bâu  G2A283S000M331   \n",
       "18344155  CTY ĐIỆN LỰC ĐIỆN BIÊN   NMTĐ Đề Bâu  G2A283S000M331   \n",
       "18344156  CTY ĐIỆN LỰC ĐIỆN BIÊN   NMTĐ Đề Bâu  G2A283S000M331   \n",
       "18344157  CTY ĐIỆN LỰC ĐIỆN BIÊN   NMTĐ Đề Bâu  G2A283S000M331   \n",
       "\n",
       "                        TIME        CS  Lỗi đơn vị  \n",
       "0        2021-01-01 00:30:00   951.300         0.0  \n",
       "1        2021-01-01 01:00:00  1027.300         0.0  \n",
       "2        2021-01-01 01:30:00   151.640         0.0  \n",
       "3        2021-01-01 02:00:00     0.000         0.0  \n",
       "4        2021-01-01 02:30:00     0.000         0.0  \n",
       "...                      ...       ...         ...  \n",
       "18344153 2024-08-08 08:00:00     0.066         3.0  \n",
       "18344154 2024-08-08 08:30:00     0.066         3.0  \n",
       "18344155 2024-08-08 09:00:00     0.066         3.0  \n",
       "18344156 2024-08-08 09:30:00     0.066         3.0  \n",
       "18344157 2024-08-08 10:00:00     0.066         3.0  \n",
       "\n",
       "[18344158 rows x 6 columns]"
      ]
     },
     "execution_count": 5,
     "metadata": {},
     "output_type": "execute_result"
    }
   ],
   "source": [
    "# Tôi muốn merge cột \"Lỗi đơn vị\" từ df_ref vào df sử dụng cột chung \"MADIEMDO\"\n",
    "# Đảm bảo cột \"MADIEMDO\" trong df_ref là kiểu string\n",
    "df_ref[\"MADIEMDO\"] = df_ref[\"MADIEMDO\"].astype(str)\n",
    "# Đảm bảo cột \"MADIEMDO\" trong df là kiểu string\n",
    "df[\"MADIEMDO\"] = df[\"MADIEMDO\"].astype(str)\n",
    "# Merge df_ref vào df dựa trên cột \"MADIEMDO\"\n",
    "df_final = df.merge(df_ref[[\"MADIEMDO\", \"Lỗi đơn vị\"]], on=\"MADIEMDO\", how=\"left\")\n",
    "df_final "
   ]
  },
  {
   "cell_type": "code",
   "execution_count": 7,
   "id": "008abf3f",
   "metadata": {},
   "outputs": [
    {
     "name": "stdout",
     "output_type": "stream",
     "text": [
      "Đã xóa 638,056 dòng có giá trị null ở cột 'Lỗi đơn vị'\n"
     ]
    }
   ],
   "source": [
    "# Xóa các hàng có giá trị null ở cột 'Lỗi đơn vị'\n",
    "rows_before = len(df_final)\n",
    "df_final = df_final[df_final['Lỗi đơn vị'].notnull()]\n",
    "rows_after = len(df_final)\n",
    "print(f\"Đã xóa {rows_before - rows_after:,} dòng có giá trị null ở cột 'Lỗi đơn vị'\")"
   ]
  },
  {
   "cell_type": "code",
   "execution_count": 8,
   "id": "f6d90104",
   "metadata": {},
   "outputs": [],
   "source": [
    "# Chuẩn hóa cột 'CS' dựa trên giá trị 'Lỗi đơn vị'\n",
    "def normalize_cs(row):\n",
    "    error = row['Lỗi đơn vị']\n",
    "    cs = row['CS']\n",
    "    if error == 0:\n",
    "        return cs\n",
    "    elif error == 1:\n",
    "        return cs * 100\n",
    "    elif error == 2:\n",
    "        return cs * 1e4\n",
    "    elif error == 3:\n",
    "        return cs * 1e5\n",
    "    elif error == 4:\n",
    "        return cs * 1e6\n",
    "    elif error == 5:\n",
    "        return cs / 10\n",
    "    else:\n",
    "        return cs  # Giữ nguyên nếu giá trị khác\n",
    "\n",
    "df_final['CS_chuanhoa'] = df_final.apply(normalize_cs, axis=1)"
   ]
  },
  {
   "cell_type": "code",
   "execution_count": 9,
   "id": "8a1e12ef",
   "metadata": {},
   "outputs": [
    {
     "data": {
      "application/vnd.microsoft.datawrangler.viewer.v0+json": {
       "columns": [
        {
         "name": "index",
         "rawType": "int64",
         "type": "integer"
        },
        {
         "name": "CTDL",
         "rawType": "object",
         "type": "string"
        },
        {
         "name": "NMTD",
         "rawType": "object",
         "type": "string"
        },
        {
         "name": "MADIEMDO",
         "rawType": "object",
         "type": "string"
        },
        {
         "name": "TIME",
         "rawType": "datetime64[ns]",
         "type": "datetime"
        },
        {
         "name": "CS",
         "rawType": "float64",
         "type": "float"
        },
        {
         "name": "Lỗi đơn vị",
         "rawType": "float64",
         "type": "float"
        },
        {
         "name": "CS_chuanhoa",
         "rawType": "float64",
         "type": "float"
        }
       ],
       "conversionMethod": "pd.DataFrame",
       "ref": "071cc4c5-59fe-488d-9f54-85d445792255",
       "rows": [
        [
         "0",
         "CTY ĐIỆN LỰC BẮC KẠN",
         "NMTĐ NẬM CẮT",
         "G2A123S000M371",
         "2021-01-01 00:30:00",
         "951.3",
         "0.0",
         "951.3"
        ],
        [
         "1",
         "CTY ĐIỆN LỰC BẮC KẠN",
         "NMTĐ NẬM CẮT",
         "G2A123S000M371",
         "2021-01-01 01:00:00",
         "1027.3",
         "0.0",
         "1027.3"
        ],
        [
         "2",
         "CTY ĐIỆN LỰC BẮC KẠN",
         "NMTĐ NẬM CẮT",
         "G2A123S000M371",
         "2021-01-01 01:30:00",
         "151.64",
         "0.0",
         "151.64"
        ],
        [
         "3",
         "CTY ĐIỆN LỰC BẮC KẠN",
         "NMTĐ NẬM CẮT",
         "G2A123S000M371",
         "2021-01-01 02:00:00",
         "0.0",
         "0.0",
         "0.0"
        ],
        [
         "4",
         "CTY ĐIỆN LỰC BẮC KẠN",
         "NMTĐ NẬM CẮT",
         "G2A123S000M371",
         "2021-01-01 02:30:00",
         "0.0",
         "0.0",
         "0.0"
        ],
        [
         "5",
         "CTY ĐIỆN LỰC BẮC KẠN",
         "NMTĐ NẬM CẮT",
         "G2A123S000M371",
         "2021-01-01 03:00:00",
         "0.0",
         "0.0",
         "0.0"
        ],
        [
         "6",
         "CTY ĐIỆN LỰC BẮC KẠN",
         "NMTĐ NẬM CẮT",
         "G2A123S000M371",
         "2021-01-01 03:30:00",
         "0.0",
         "0.0",
         "0.0"
        ],
        [
         "7",
         "CTY ĐIỆN LỰC BẮC KẠN",
         "NMTĐ NẬM CẮT",
         "G2A123S000M371",
         "2021-01-01 04:00:00",
         "0.0",
         "0.0",
         "0.0"
        ],
        [
         "8",
         "CTY ĐIỆN LỰC BẮC KẠN",
         "NMTĐ NẬM CẮT",
         "G2A123S000M371",
         "2021-01-01 04:30:00",
         "0.0",
         "0.0",
         "0.0"
        ],
        [
         "9",
         "CTY ĐIỆN LỰC BẮC KẠN",
         "NMTĐ NẬM CẮT",
         "G2A123S000M371",
         "2021-01-01 05:00:00",
         "0.0",
         "0.0",
         "0.0"
        ],
        [
         "10",
         "CTY ĐIỆN LỰC BẮC KẠN",
         "NMTĐ NẬM CẮT",
         "G2A123S000M371",
         "2021-01-01 05:30:00",
         "0.0",
         "0.0",
         "0.0"
        ],
        [
         "11",
         "CTY ĐIỆN LỰC BẮC KẠN",
         "NMTĐ NẬM CẮT",
         "G2A123S000M371",
         "2021-01-01 06:00:00",
         "0.0",
         "0.0",
         "0.0"
        ],
        [
         "12",
         "CTY ĐIỆN LỰC BẮC KẠN",
         "NMTĐ NẬM CẮT",
         "G2A123S000M371",
         "2021-01-01 06:30:00",
         "0.0",
         "0.0",
         "0.0"
        ],
        [
         "13",
         "CTY ĐIỆN LỰC BẮC KẠN",
         "NMTĐ NẬM CẮT",
         "G2A123S000M371",
         "2021-01-01 07:00:00",
         "0.0",
         "0.0",
         "0.0"
        ],
        [
         "14",
         "CTY ĐIỆN LỰC BẮC KẠN",
         "NMTĐ NẬM CẮT",
         "G2A123S000M371",
         "2021-01-01 07:30:00",
         "0.0",
         "0.0",
         "0.0"
        ],
        [
         "15",
         "CTY ĐIỆN LỰC BẮC KẠN",
         "NMTĐ NẬM CẮT",
         "G2A123S000M371",
         "2021-01-01 08:00:00",
         "0.0",
         "0.0",
         "0.0"
        ],
        [
         "16",
         "CTY ĐIỆN LỰC BẮC KẠN",
         "NMTĐ NẬM CẮT",
         "G2A123S000M371",
         "2021-01-01 08:30:00",
         "68.04",
         "0.0",
         "68.04"
        ],
        [
         "17",
         "CTY ĐIỆN LỰC BẮC KẠN",
         "NMTĐ NẬM CẮT",
         "G2A123S000M371",
         "2021-01-01 09:00:00",
         "1173.9",
         "0.0",
         "1173.9"
        ],
        [
         "18",
         "CTY ĐIỆN LỰC BẮC KẠN",
         "NMTĐ NẬM CẮT",
         "G2A123S000M371",
         "2021-01-01 09:30:00",
         "1900.5",
         "0.0",
         "1900.5"
        ],
        [
         "19",
         "CTY ĐIỆN LỰC BẮC KẠN",
         "NMTĐ NẬM CẮT",
         "G2A123S000M371",
         "2021-01-01 10:00:00",
         "3267.1",
         "0.0",
         "3267.1"
        ],
        [
         "20",
         "CTY ĐIỆN LỰC BẮC KẠN",
         "NMTĐ NẬM CẮT",
         "G2A123S000M371",
         "2021-01-01 10:30:00",
         "3305.9",
         "0.0",
         "3305.9"
        ],
        [
         "21",
         "CTY ĐIỆN LỰC BẮC KẠN",
         "NMTĐ NẬM CẮT",
         "G2A123S000M371",
         "2021-01-01 11:00:00",
         "3294.9",
         "0.0",
         "3294.9"
        ],
        [
         "22",
         "CTY ĐIỆN LỰC BẮC KẠN",
         "NMTĐ NẬM CẮT",
         "G2A123S000M371",
         "2021-01-01 11:30:00",
         "3097.9",
         "0.0",
         "3097.9"
        ],
        [
         "23",
         "CTY ĐIỆN LỰC BẮC KẠN",
         "NMTĐ NẬM CẮT",
         "G2A123S000M371",
         "2021-01-01 12:00:00",
         "816.92",
         "0.0",
         "816.92"
        ],
        [
         "24",
         "CTY ĐIỆN LỰC BẮC KẠN",
         "NMTĐ NẬM CẮT",
         "G2A123S000M371",
         "2021-01-01 12:30:00",
         "0.0",
         "0.0",
         "0.0"
        ],
        [
         "25",
         "CTY ĐIỆN LỰC BẮC KẠN",
         "NMTĐ NẬM CẮT",
         "G2A123S000M371",
         "2021-01-01 13:00:00",
         "0.0",
         "0.0",
         "0.0"
        ],
        [
         "26",
         "CTY ĐIỆN LỰC BẮC KẠN",
         "NMTĐ NẬM CẮT",
         "G2A123S000M371",
         "2021-01-01 13:30:00",
         "0.0",
         "0.0",
         "0.0"
        ],
        [
         "27",
         "CTY ĐIỆN LỰC BẮC KẠN",
         "NMTĐ NẬM CẮT",
         "G2A123S000M371",
         "2021-01-01 14:00:00",
         "0.0",
         "0.0",
         "0.0"
        ],
        [
         "28",
         "CTY ĐIỆN LỰC BẮC KẠN",
         "NMTĐ NẬM CẮT",
         "G2A123S000M371",
         "2021-01-01 14:30:00",
         "0.0",
         "0.0",
         "0.0"
        ],
        [
         "29",
         "CTY ĐIỆN LỰC BẮC KẠN",
         "NMTĐ NẬM CẮT",
         "G2A123S000M371",
         "2021-01-01 15:00:00",
         "0.0",
         "0.0",
         "0.0"
        ],
        [
         "30",
         "CTY ĐIỆN LỰC BẮC KẠN",
         "NMTĐ NẬM CẮT",
         "G2A123S000M371",
         "2021-01-01 15:30:00",
         "0.0",
         "0.0",
         "0.0"
        ],
        [
         "31",
         "CTY ĐIỆN LỰC BẮC KẠN",
         "NMTĐ NẬM CẮT",
         "G2A123S000M371",
         "2021-01-01 16:00:00",
         "0.0",
         "0.0",
         "0.0"
        ],
        [
         "32",
         "CTY ĐIỆN LỰC BẮC KẠN",
         "NMTĐ NẬM CẮT",
         "G2A123S000M371",
         "2021-01-01 16:30:00",
         "0.0",
         "0.0",
         "0.0"
        ],
        [
         "33",
         "CTY ĐIỆN LỰC BẮC KẠN",
         "NMTĐ NẬM CẮT",
         "G2A123S000M371",
         "2021-01-01 17:00:00",
         "984.9",
         "0.0",
         "984.9"
        ],
        [
         "34",
         "CTY ĐIỆN LỰC BẮC KẠN",
         "NMTĐ NẬM CẮT",
         "G2A123S000M371",
         "2021-01-01 17:30:00",
         "3307.5",
         "0.0",
         "3307.5"
        ],
        [
         "35",
         "CTY ĐIỆN LỰC BẮC KẠN",
         "NMTĐ NẬM CẮT",
         "G2A123S000M371",
         "2021-01-01 18:00:00",
         "3318.8",
         "0.0",
         "3318.8"
        ],
        [
         "36",
         "CTY ĐIỆN LỰC BẮC KẠN",
         "NMTĐ NẬM CẮT",
         "G2A123S000M371",
         "2021-01-01 18:30:00",
         "3283.6",
         "0.0",
         "3283.6"
        ],
        [
         "37",
         "CTY ĐIỆN LỰC BẮC KẠN",
         "NMTĐ NẬM CẮT",
         "G2A123S000M371",
         "2021-01-01 19:00:00",
         "3055.0",
         "0.0",
         "3055.0"
        ],
        [
         "38",
         "CTY ĐIỆN LỰC BẮC KẠN",
         "NMTĐ NẬM CẮT",
         "G2A123S000M371",
         "2021-01-01 19:30:00",
         "2540.2",
         "0.0",
         "2540.2"
        ],
        [
         "39",
         "CTY ĐIỆN LỰC BẮC KẠN",
         "NMTĐ NẬM CẮT",
         "G2A123S000M371",
         "2021-01-01 20:00:00",
         "2084.5",
         "0.0",
         "2084.5"
        ],
        [
         "40",
         "CTY ĐIỆN LỰC BẮC KẠN",
         "NMTĐ NẬM CẮT",
         "G2A123S000M371",
         "2021-01-01 20:30:00",
         "1339.3",
         "0.0",
         "1339.3"
        ],
        [
         "41",
         "CTY ĐIỆN LỰC BẮC KẠN",
         "NMTĐ NẬM CẮT",
         "G2A123S000M371",
         "2021-01-01 21:00:00",
         "1341.5",
         "0.0",
         "1341.5"
        ],
        [
         "42",
         "CTY ĐIỆN LỰC BẮC KẠN",
         "NMTĐ NẬM CẮT",
         "G2A123S000M371",
         "2021-01-01 21:30:00",
         "1204.6",
         "0.0",
         "1204.6"
        ],
        [
         "43",
         "CTY ĐIỆN LỰC BẮC KẠN",
         "NMTĐ NẬM CẮT",
         "G2A123S000M371",
         "2021-01-01 22:00:00",
         "992.9",
         "0.0",
         "992.9"
        ],
        [
         "44",
         "CTY ĐIỆN LỰC BẮC KẠN",
         "NMTĐ NẬM CẮT",
         "G2A123S000M371",
         "2021-01-01 22:30:00",
         "1154.5",
         "0.0",
         "1154.5"
        ],
        [
         "45",
         "CTY ĐIỆN LỰC BẮC KẠN",
         "NMTĐ NẬM CẮT",
         "G2A123S000M371",
         "2021-01-01 23:00:00",
         "1185.3",
         "0.0",
         "1185.3"
        ],
        [
         "46",
         "CTY ĐIỆN LỰC BẮC KẠN",
         "NMTĐ NẬM CẮT",
         "G2A123S000M371",
         "2021-01-01 23:30:00",
         "1037.8",
         "0.0",
         "1037.8"
        ],
        [
         "47",
         "CTY ĐIỆN LỰC BẮC KẠN",
         "NMTĐ NẬM CẮT",
         "G2A123S000M371",
         "2021-01-02 00:00:00",
         "1027.3",
         "0.0",
         "1027.3"
        ],
        [
         "48",
         "CTY ĐIỆN LỰC BẮC KẠN",
         "NMTĐ NẬM CẮT",
         "G2A123S000M371",
         "2021-01-02 00:30:00",
         "936.66",
         "0.0",
         "936.66"
        ],
        [
         "49",
         "CTY ĐIỆN LỰC BẮC KẠN",
         "NMTĐ NẬM CẮT",
         "G2A123S000M371",
         "2021-01-02 01:00:00",
         "966.84",
         "0.0",
         "966.84"
        ]
       ],
       "shape": {
        "columns": 7,
        "rows": 17706102
       }
      },
      "text/html": [
       "<div>\n",
       "<style scoped>\n",
       "    .dataframe tbody tr th:only-of-type {\n",
       "        vertical-align: middle;\n",
       "    }\n",
       "\n",
       "    .dataframe tbody tr th {\n",
       "        vertical-align: top;\n",
       "    }\n",
       "\n",
       "    .dataframe thead th {\n",
       "        text-align: right;\n",
       "    }\n",
       "</style>\n",
       "<table border=\"1\" class=\"dataframe\">\n",
       "  <thead>\n",
       "    <tr style=\"text-align: right;\">\n",
       "      <th></th>\n",
       "      <th>CTDL</th>\n",
       "      <th>NMTD</th>\n",
       "      <th>MADIEMDO</th>\n",
       "      <th>TIME</th>\n",
       "      <th>CS</th>\n",
       "      <th>Lỗi đơn vị</th>\n",
       "      <th>CS_chuanhoa</th>\n",
       "    </tr>\n",
       "  </thead>\n",
       "  <tbody>\n",
       "    <tr>\n",
       "      <th>0</th>\n",
       "      <td>CTY ĐIỆN LỰC BẮC KẠN</td>\n",
       "      <td>NMTĐ NẬM CẮT</td>\n",
       "      <td>G2A123S000M371</td>\n",
       "      <td>2021-01-01 00:30:00</td>\n",
       "      <td>951.300</td>\n",
       "      <td>0.0</td>\n",
       "      <td>951.30</td>\n",
       "    </tr>\n",
       "    <tr>\n",
       "      <th>1</th>\n",
       "      <td>CTY ĐIỆN LỰC BẮC KẠN</td>\n",
       "      <td>NMTĐ NẬM CẮT</td>\n",
       "      <td>G2A123S000M371</td>\n",
       "      <td>2021-01-01 01:00:00</td>\n",
       "      <td>1027.300</td>\n",
       "      <td>0.0</td>\n",
       "      <td>1027.30</td>\n",
       "    </tr>\n",
       "    <tr>\n",
       "      <th>2</th>\n",
       "      <td>CTY ĐIỆN LỰC BẮC KẠN</td>\n",
       "      <td>NMTĐ NẬM CẮT</td>\n",
       "      <td>G2A123S000M371</td>\n",
       "      <td>2021-01-01 01:30:00</td>\n",
       "      <td>151.640</td>\n",
       "      <td>0.0</td>\n",
       "      <td>151.64</td>\n",
       "    </tr>\n",
       "    <tr>\n",
       "      <th>3</th>\n",
       "      <td>CTY ĐIỆN LỰC BẮC KẠN</td>\n",
       "      <td>NMTĐ NẬM CẮT</td>\n",
       "      <td>G2A123S000M371</td>\n",
       "      <td>2021-01-01 02:00:00</td>\n",
       "      <td>0.000</td>\n",
       "      <td>0.0</td>\n",
       "      <td>0.00</td>\n",
       "    </tr>\n",
       "    <tr>\n",
       "      <th>4</th>\n",
       "      <td>CTY ĐIỆN LỰC BẮC KẠN</td>\n",
       "      <td>NMTĐ NẬM CẮT</td>\n",
       "      <td>G2A123S000M371</td>\n",
       "      <td>2021-01-01 02:30:00</td>\n",
       "      <td>0.000</td>\n",
       "      <td>0.0</td>\n",
       "      <td>0.00</td>\n",
       "    </tr>\n",
       "    <tr>\n",
       "      <th>...</th>\n",
       "      <td>...</td>\n",
       "      <td>...</td>\n",
       "      <td>...</td>\n",
       "      <td>...</td>\n",
       "      <td>...</td>\n",
       "      <td>...</td>\n",
       "      <td>...</td>\n",
       "    </tr>\n",
       "    <tr>\n",
       "      <th>18344153</th>\n",
       "      <td>CTY ĐIỆN LỰC ĐIỆN BIÊN</td>\n",
       "      <td>NMTĐ Đề Bâu</td>\n",
       "      <td>G2A283S000M331</td>\n",
       "      <td>2024-08-08 08:00:00</td>\n",
       "      <td>0.066</td>\n",
       "      <td>3.0</td>\n",
       "      <td>6600.00</td>\n",
       "    </tr>\n",
       "    <tr>\n",
       "      <th>18344154</th>\n",
       "      <td>CTY ĐIỆN LỰC ĐIỆN BIÊN</td>\n",
       "      <td>NMTĐ Đề Bâu</td>\n",
       "      <td>G2A283S000M331</td>\n",
       "      <td>2024-08-08 08:30:00</td>\n",
       "      <td>0.066</td>\n",
       "      <td>3.0</td>\n",
       "      <td>6600.00</td>\n",
       "    </tr>\n",
       "    <tr>\n",
       "      <th>18344155</th>\n",
       "      <td>CTY ĐIỆN LỰC ĐIỆN BIÊN</td>\n",
       "      <td>NMTĐ Đề Bâu</td>\n",
       "      <td>G2A283S000M331</td>\n",
       "      <td>2024-08-08 09:00:00</td>\n",
       "      <td>0.066</td>\n",
       "      <td>3.0</td>\n",
       "      <td>6600.00</td>\n",
       "    </tr>\n",
       "    <tr>\n",
       "      <th>18344156</th>\n",
       "      <td>CTY ĐIỆN LỰC ĐIỆN BIÊN</td>\n",
       "      <td>NMTĐ Đề Bâu</td>\n",
       "      <td>G2A283S000M331</td>\n",
       "      <td>2024-08-08 09:30:00</td>\n",
       "      <td>0.066</td>\n",
       "      <td>3.0</td>\n",
       "      <td>6600.00</td>\n",
       "    </tr>\n",
       "    <tr>\n",
       "      <th>18344157</th>\n",
       "      <td>CTY ĐIỆN LỰC ĐIỆN BIÊN</td>\n",
       "      <td>NMTĐ Đề Bâu</td>\n",
       "      <td>G2A283S000M331</td>\n",
       "      <td>2024-08-08 10:00:00</td>\n",
       "      <td>0.066</td>\n",
       "      <td>3.0</td>\n",
       "      <td>6600.00</td>\n",
       "    </tr>\n",
       "  </tbody>\n",
       "</table>\n",
       "<p>17706102 rows × 7 columns</p>\n",
       "</div>"
      ],
      "text/plain": [
       "                            CTDL          NMTD        MADIEMDO  \\\n",
       "0           CTY ĐIỆN LỰC BẮC KẠN  NMTĐ NẬM CẮT  G2A123S000M371   \n",
       "1           CTY ĐIỆN LỰC BẮC KẠN  NMTĐ NẬM CẮT  G2A123S000M371   \n",
       "2           CTY ĐIỆN LỰC BẮC KẠN  NMTĐ NẬM CẮT  G2A123S000M371   \n",
       "3           CTY ĐIỆN LỰC BẮC KẠN  NMTĐ NẬM CẮT  G2A123S000M371   \n",
       "4           CTY ĐIỆN LỰC BẮC KẠN  NMTĐ NẬM CẮT  G2A123S000M371   \n",
       "...                          ...           ...             ...   \n",
       "18344153  CTY ĐIỆN LỰC ĐIỆN BIÊN   NMTĐ Đề Bâu  G2A283S000M331   \n",
       "18344154  CTY ĐIỆN LỰC ĐIỆN BIÊN   NMTĐ Đề Bâu  G2A283S000M331   \n",
       "18344155  CTY ĐIỆN LỰC ĐIỆN BIÊN   NMTĐ Đề Bâu  G2A283S000M331   \n",
       "18344156  CTY ĐIỆN LỰC ĐIỆN BIÊN   NMTĐ Đề Bâu  G2A283S000M331   \n",
       "18344157  CTY ĐIỆN LỰC ĐIỆN BIÊN   NMTĐ Đề Bâu  G2A283S000M331   \n",
       "\n",
       "                        TIME        CS  Lỗi đơn vị  CS_chuanhoa  \n",
       "0        2021-01-01 00:30:00   951.300         0.0       951.30  \n",
       "1        2021-01-01 01:00:00  1027.300         0.0      1027.30  \n",
       "2        2021-01-01 01:30:00   151.640         0.0       151.64  \n",
       "3        2021-01-01 02:00:00     0.000         0.0         0.00  \n",
       "4        2021-01-01 02:30:00     0.000         0.0         0.00  \n",
       "...                      ...       ...         ...          ...  \n",
       "18344153 2024-08-08 08:00:00     0.066         3.0      6600.00  \n",
       "18344154 2024-08-08 08:30:00     0.066         3.0      6600.00  \n",
       "18344155 2024-08-08 09:00:00     0.066         3.0      6600.00  \n",
       "18344156 2024-08-08 09:30:00     0.066         3.0      6600.00  \n",
       "18344157 2024-08-08 10:00:00     0.066         3.0      6600.00  \n",
       "\n",
       "[17706102 rows x 7 columns]"
      ]
     },
     "execution_count": 9,
     "metadata": {},
     "output_type": "execute_result"
    }
   ],
   "source": [
    "df_final"
   ]
  },
  {
   "cell_type": "code",
   "execution_count": 12,
   "id": "c6fd70db",
   "metadata": {},
   "outputs": [],
   "source": [
    "# export df_final to parquet\n",
    "output_folder = r\"C:\\Khue\\TDN\\data\\interim\"\n",
    "output_file = os.path.join(output_folder, \"sanluong_chuanhoa.parquet\")\n",
    "# export df_final to csv\n",
    "output_file = os.path.join(output_folder, \"sanluong_chuanhoa.csv\")\n",
    "df_final.to_parquet(output_file, index=False, engine=\"pyarrow\")\n",
    "df_final.to_csv(output_file, index=False, encoding=\"utf-8-sig\")"
   ]
  },
  {
   "cell_type": "code",
   "execution_count": null,
   "id": "176a8d9d",
   "metadata": {},
   "outputs": [
    {
     "name": "stdout",
     "output_type": "stream",
     "text": [
      "Đã ghi Sheet_1 (0 → 1048576)\n",
      "Đã ghi Sheet_2 (1048576 → 2097152)\n",
      "Đã ghi Sheet_3 (2097152 → 3145728)\n",
      "Đã ghi Sheet_4 (3145728 → 4194304)\n",
      "Đã ghi Sheet_5 (4194304 → 5242880)\n",
      "Đã ghi Sheet_6 (5242880 → 6291456)\n",
      "Đã ghi Sheet_7 (6291456 → 7340032)\n"
     ]
    }
   ],
   "source": [
    "import pandas as pd\n",
    "\n",
    "def save_df_to_excel_multiple_sheets(df, file_name='du_lieu_solar.xlsx', max_rows_per_sheet=1048576):\n",
    "    writer = pd.ExcelWriter(file_name, engine='xlsxwriter')\n",
    "    total_rows = len(df)\n",
    "    num_sheets = (total_rows // max_rows_per_sheet) + (1 if total_rows % max_rows_per_sheet else 0)\n",
    "\n",
    "    for i in range(num_sheets):\n",
    "        start_row = i * max_rows_per_sheet\n",
    "        end_row = min(start_row + max_rows_per_sheet, total_rows)\n",
    "        sheet_df = df.iloc[start_row:end_row]\n",
    "        sheet_name = f'Sheet_{i+1}'\n",
    "        sheet_df.to_excel(writer, sheet_name=sheet_name, index=False)\n",
    "        print(f'Đã ghi {sheet_name} ({start_row} → {end_row})')\n",
    "\n",
    "    writer.close()\n",
    "    print(f'✅ Đã lưu toàn bộ dữ liệu vào file: {file_name}')\n",
    "    \n",
    "save_df_to_excel_multiple_sheets(df_final, 'sanluong_chuanhoa.xlsx')"
   ]
  }
 ],
 "metadata": {
  "kernelspec": {
   "display_name": "Python 3",
   "language": "python",
   "name": "python3"
  },
  "language_info": {
   "codemirror_mode": {
    "name": "ipython",
    "version": 3
   },
   "file_extension": ".py",
   "mimetype": "text/x-python",
   "name": "python",
   "nbconvert_exporter": "python",
   "pygments_lexer": "ipython3",
   "version": "3.8.10"
  }
 },
 "nbformat": 4,
 "nbformat_minor": 5
}
